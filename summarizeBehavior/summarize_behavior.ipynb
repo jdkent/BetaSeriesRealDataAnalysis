{
 "cells": [
  {
   "cell_type": "code",
   "execution_count": 10,
   "metadata": {},
   "outputs": [],
   "source": [
    "import pandas as pd\n",
    "from bids import BIDSLayout\n",
    "import seaborn as sns"
   ]
  },
  {
   "cell_type": "code",
   "execution_count": 15,
   "metadata": {},
   "outputs": [],
   "source": [
    "layout = BIDSLayout('../../', validate=False)"
   ]
  },
  {
   "cell_type": "code",
   "execution_count": 16,
   "metadata": {},
   "outputs": [],
   "source": [
    "events = layout.get(suffix='events', extension='tsv')"
   ]
  },
  {
   "cell_type": "code",
   "execution_count": 19,
   "metadata": {},
   "outputs": [],
   "source": [
    "events_collector = []\n",
    "for events_obj in events:\n",
    "    participant_id = events_obj.entities['subject']\n",
    "    \n",
    "    events_df = pd.read_csv(events_obj.path, sep='\\t')\n",
    "    \n",
    "    participant_column = [participant_id] * len(events_df)\n",
    "    events_df['participant_id'] = participant_column\n",
    "    events_collector.append(events_df)\n",
    "\n",
    "behavior_df = pd.concat(events_collector)"
   ]
  },
  {
   "cell_type": "code",
   "execution_count": 21,
   "metadata": {},
   "outputs": [
    {
     "data": {
      "text/html": [
       "<div>\n",
       "<style scoped>\n",
       "    .dataframe tbody tr th:only-of-type {\n",
       "        vertical-align: middle;\n",
       "    }\n",
       "\n",
       "    .dataframe tbody tr th {\n",
       "        vertical-align: top;\n",
       "    }\n",
       "\n",
       "    .dataframe thead th {\n",
       "        text-align: right;\n",
       "    }\n",
       "</style>\n",
       "<table border=\"1\" class=\"dataframe\">\n",
       "  <thead>\n",
       "    <tr style=\"text-align: right;\">\n",
       "      <th></th>\n",
       "      <th>trial_type</th>\n",
       "      <th>switch</th>\n",
       "      <th>onset</th>\n",
       "      <th>correct</th>\n",
       "      <th>response_time</th>\n",
       "      <th>stimulus</th>\n",
       "      <th>block</th>\n",
       "      <th>duration</th>\n",
       "      <th>color</th>\n",
       "      <th>participant_id</th>\n",
       "    </tr>\n",
       "  </thead>\n",
       "  <tbody>\n",
       "    <tr>\n",
       "      <th>0</th>\n",
       "      <td>single</td>\n",
       "      <td>0</td>\n",
       "      <td>38.055</td>\n",
       "      <td>1</td>\n",
       "      <td>1.697</td>\n",
       "      <td>1</td>\n",
       "      <td>1</td>\n",
       "      <td>1.5</td>\n",
       "      <td>blue</td>\n",
       "      <td>GE120001</td>\n",
       "    </tr>\n",
       "    <tr>\n",
       "      <th>1</th>\n",
       "      <td>single</td>\n",
       "      <td>0</td>\n",
       "      <td>44.068</td>\n",
       "      <td>1</td>\n",
       "      <td>0.674</td>\n",
       "      <td>8</td>\n",
       "      <td>1</td>\n",
       "      <td>1.5</td>\n",
       "      <td>blue</td>\n",
       "      <td>GE120001</td>\n",
       "    </tr>\n",
       "    <tr>\n",
       "      <th>2</th>\n",
       "      <td>single</td>\n",
       "      <td>0</td>\n",
       "      <td>48.578</td>\n",
       "      <td>1</td>\n",
       "      <td>1.177</td>\n",
       "      <td>9</td>\n",
       "      <td>1</td>\n",
       "      <td>1.5</td>\n",
       "      <td>blue</td>\n",
       "      <td>GE120001</td>\n",
       "    </tr>\n",
       "    <tr>\n",
       "      <th>3</th>\n",
       "      <td>single</td>\n",
       "      <td>0</td>\n",
       "      <td>54.090</td>\n",
       "      <td>1</td>\n",
       "      <td>0.461</td>\n",
       "      <td>3</td>\n",
       "      <td>1</td>\n",
       "      <td>1.5</td>\n",
       "      <td>blue</td>\n",
       "      <td>GE120001</td>\n",
       "    </tr>\n",
       "    <tr>\n",
       "      <th>4</th>\n",
       "      <td>single</td>\n",
       "      <td>0</td>\n",
       "      <td>57.096</td>\n",
       "      <td>1</td>\n",
       "      <td>0.647</td>\n",
       "      <td>1</td>\n",
       "      <td>1</td>\n",
       "      <td>1.5</td>\n",
       "      <td>blue</td>\n",
       "      <td>GE120001</td>\n",
       "    </tr>\n",
       "  </tbody>\n",
       "</table>\n",
       "</div>"
      ],
      "text/plain": [
       "  trial_type  switch   onset  correct  response_time  stimulus  block  \\\n",
       "0     single       0  38.055        1          1.697         1      1   \n",
       "1     single       0  44.068        1          0.674         8      1   \n",
       "2     single       0  48.578        1          1.177         9      1   \n",
       "3     single       0  54.090        1          0.461         3      1   \n",
       "4     single       0  57.096        1          0.647         1      1   \n",
       "\n",
       "   duration color participant_id  \n",
       "0       1.5  blue       GE120001  \n",
       "1       1.5  blue       GE120001  \n",
       "2       1.5  blue       GE120001  \n",
       "3       1.5  blue       GE120001  \n",
       "4       1.5  blue       GE120001  "
      ]
     },
     "execution_count": 21,
     "metadata": {},
     "output_type": "execute_result"
    }
   ],
   "source": [
    "behavior_df.head()"
   ]
  },
  {
   "cell_type": "code",
   "execution_count": 44,
   "metadata": {},
   "outputs": [],
   "source": [
    "# drop participants with more than 90% incorrect trials\n",
    "group_df = behavior_df.groupby('participant_id')['correct'].describe()\n",
    "bad_participants = list(group_df[group_df['mean'] < 0.1].index)\n",
    "\n",
    "good_behavior_df = behavior_df[~behavior_df['participant_id'].isin(bad_participants)]"
   ]
  },
  {
   "cell_type": "code",
   "execution_count": 57,
   "metadata": {},
   "outputs": [
    {
     "data": {
      "text/plain": [
       "58"
      ]
     },
     "execution_count": 57,
     "metadata": {},
     "output_type": "execute_result"
    }
   ],
   "source": [
    "# number of participants\n",
    "len(good_behavior_df['participant_id'].unique())"
   ]
  },
  {
   "cell_type": "code",
   "execution_count": 56,
   "metadata": {},
   "outputs": [
    {
     "name": "stdout",
     "output_type": "stream",
     "text": [
      "ACCURACY\n"
     ]
    },
    {
     "data": {
      "text/html": [
       "<div>\n",
       "<style scoped>\n",
       "    .dataframe tbody tr th:only-of-type {\n",
       "        vertical-align: middle;\n",
       "    }\n",
       "\n",
       "    .dataframe tbody tr th {\n",
       "        vertical-align: top;\n",
       "    }\n",
       "\n",
       "    .dataframe thead th {\n",
       "        text-align: right;\n",
       "    }\n",
       "</style>\n",
       "<table border=\"1\" class=\"dataframe\">\n",
       "  <thead>\n",
       "    <tr style=\"text-align: right;\">\n",
       "      <th>trial_type</th>\n",
       "      <th>firsttrial</th>\n",
       "      <th>repeat</th>\n",
       "      <th>single</th>\n",
       "      <th>switch</th>\n",
       "    </tr>\n",
       "  </thead>\n",
       "  <tbody>\n",
       "    <tr>\n",
       "      <th>count</th>\n",
       "      <td>348.000000</td>\n",
       "      <td>5568.000000</td>\n",
       "      <td>6960.000000</td>\n",
       "      <td>4524.000000</td>\n",
       "    </tr>\n",
       "    <tr>\n",
       "      <th>mean</th>\n",
       "      <td>0.655172</td>\n",
       "      <td>0.890086</td>\n",
       "      <td>0.920977</td>\n",
       "      <td>0.838638</td>\n",
       "    </tr>\n",
       "    <tr>\n",
       "      <th>std</th>\n",
       "      <td>0.475996</td>\n",
       "      <td>0.312810</td>\n",
       "      <td>0.269794</td>\n",
       "      <td>0.367905</td>\n",
       "    </tr>\n",
       "    <tr>\n",
       "      <th>min</th>\n",
       "      <td>0.000000</td>\n",
       "      <td>0.000000</td>\n",
       "      <td>0.000000</td>\n",
       "      <td>0.000000</td>\n",
       "    </tr>\n",
       "    <tr>\n",
       "      <th>25%</th>\n",
       "      <td>0.000000</td>\n",
       "      <td>1.000000</td>\n",
       "      <td>1.000000</td>\n",
       "      <td>1.000000</td>\n",
       "    </tr>\n",
       "    <tr>\n",
       "      <th>50%</th>\n",
       "      <td>1.000000</td>\n",
       "      <td>1.000000</td>\n",
       "      <td>1.000000</td>\n",
       "      <td>1.000000</td>\n",
       "    </tr>\n",
       "    <tr>\n",
       "      <th>75%</th>\n",
       "      <td>1.000000</td>\n",
       "      <td>1.000000</td>\n",
       "      <td>1.000000</td>\n",
       "      <td>1.000000</td>\n",
       "    </tr>\n",
       "    <tr>\n",
       "      <th>max</th>\n",
       "      <td>1.000000</td>\n",
       "      <td>1.000000</td>\n",
       "      <td>1.000000</td>\n",
       "      <td>1.000000</td>\n",
       "    </tr>\n",
       "  </tbody>\n",
       "</table>\n",
       "</div>"
      ],
      "text/plain": [
       "trial_type  firsttrial       repeat       single       switch\n",
       "count       348.000000  5568.000000  6960.000000  4524.000000\n",
       "mean          0.655172     0.890086     0.920977     0.838638\n",
       "std           0.475996     0.312810     0.269794     0.367905\n",
       "min           0.000000     0.000000     0.000000     0.000000\n",
       "25%           0.000000     1.000000     1.000000     1.000000\n",
       "50%           1.000000     1.000000     1.000000     1.000000\n",
       "75%           1.000000     1.000000     1.000000     1.000000\n",
       "max           1.000000     1.000000     1.000000     1.000000"
      ]
     },
     "metadata": {},
     "output_type": "display_data"
    },
    {
     "name": "stdout",
     "output_type": "stream",
     "text": [
      "REACTION TIME (correct trials)\n"
     ]
    },
    {
     "data": {
      "text/html": [
       "<div>\n",
       "<style scoped>\n",
       "    .dataframe tbody tr th:only-of-type {\n",
       "        vertical-align: middle;\n",
       "    }\n",
       "\n",
       "    .dataframe tbody tr th {\n",
       "        vertical-align: top;\n",
       "    }\n",
       "\n",
       "    .dataframe thead th {\n",
       "        text-align: right;\n",
       "    }\n",
       "</style>\n",
       "<table border=\"1\" class=\"dataframe\">\n",
       "  <thead>\n",
       "    <tr style=\"text-align: right;\">\n",
       "      <th>trial_type</th>\n",
       "      <th>firsttrial</th>\n",
       "      <th>repeat</th>\n",
       "      <th>single</th>\n",
       "      <th>switch</th>\n",
       "    </tr>\n",
       "  </thead>\n",
       "  <tbody>\n",
       "    <tr>\n",
       "      <th>count</th>\n",
       "      <td>228.000000</td>\n",
       "      <td>4956.000000</td>\n",
       "      <td>6410.000000</td>\n",
       "      <td>3794.000000</td>\n",
       "    </tr>\n",
       "    <tr>\n",
       "      <th>mean</th>\n",
       "      <td>1.224228</td>\n",
       "      <td>1.011540</td>\n",
       "      <td>0.791777</td>\n",
       "      <td>1.108341</td>\n",
       "    </tr>\n",
       "    <tr>\n",
       "      <th>std</th>\n",
       "      <td>0.345224</td>\n",
       "      <td>0.278116</td>\n",
       "      <td>0.225259</td>\n",
       "      <td>0.288620</td>\n",
       "    </tr>\n",
       "    <tr>\n",
       "      <th>min</th>\n",
       "      <td>0.679000</td>\n",
       "      <td>0.479000</td>\n",
       "      <td>0.371000</td>\n",
       "      <td>0.472000</td>\n",
       "    </tr>\n",
       "    <tr>\n",
       "      <th>25%</th>\n",
       "      <td>0.968000</td>\n",
       "      <td>0.805000</td>\n",
       "      <td>0.644000</td>\n",
       "      <td>0.889000</td>\n",
       "    </tr>\n",
       "    <tr>\n",
       "      <th>50%</th>\n",
       "      <td>1.176000</td>\n",
       "      <td>0.959000</td>\n",
       "      <td>0.742000</td>\n",
       "      <td>1.078000</td>\n",
       "    </tr>\n",
       "    <tr>\n",
       "      <th>75%</th>\n",
       "      <td>1.431000</td>\n",
       "      <td>1.163000</td>\n",
       "      <td>0.879000</td>\n",
       "      <td>1.285000</td>\n",
       "    </tr>\n",
       "    <tr>\n",
       "      <th>max</th>\n",
       "      <td>2.181000</td>\n",
       "      <td>2.254000</td>\n",
       "      <td>2.304000</td>\n",
       "      <td>2.257000</td>\n",
       "    </tr>\n",
       "  </tbody>\n",
       "</table>\n",
       "</div>"
      ],
      "text/plain": [
       "trial_type  firsttrial       repeat       single       switch\n",
       "count       228.000000  4956.000000  6410.000000  3794.000000\n",
       "mean          1.224228     1.011540     0.791777     1.108341\n",
       "std           0.345224     0.278116     0.225259     0.288620\n",
       "min           0.679000     0.479000     0.371000     0.472000\n",
       "25%           0.968000     0.805000     0.644000     0.889000\n",
       "50%           1.176000     0.959000     0.742000     1.078000\n",
       "75%           1.431000     1.163000     0.879000     1.285000\n",
       "max           2.181000     2.254000     2.304000     2.257000"
      ]
     },
     "metadata": {},
     "output_type": "display_data"
    }
   ],
   "source": [
    "# get overall summary of data\n",
    "# accuracy\n",
    "print(\"ACCURACY\")\n",
    "display(good_behavior_df.groupby(['trial_type']).describe().T.loc['correct',:])\n",
    "\n",
    "# reaction time (for correct trials)\n",
    "print(\"REACTION TIME (correct trials)\")\n",
    "display(good_behavior_df.query(\"correct == 1\").groupby(['trial_type']).describe().T.loc['response_time',:])"
   ]
  },
  {
   "cell_type": "code",
   "execution_count": 51,
   "metadata": {},
   "outputs": [
    {
     "data": {
      "text/plain": [
       "<matplotlib.axes._subplots.AxesSubplot at 0x7f361be23b50>"
      ]
     },
     "execution_count": 51,
     "metadata": {},
     "output_type": "execute_result"
    },
    {
     "data": {
      "image/png": "[encoded data removed]",
      "text/plain": [
       "<Figure size 432x288 with 1 Axes>"
      ]
     },
     "metadata": {
      "needs_background": "light"
     },
     "output_type": "display_data"
    }
   ],
   "source": [
    "sns.violinplot(x='trial_type', y='response_time',\n",
    "               order=['firsttrial', 'single', 'repeat', 'switch'],\n",
    "               data=good_behavior_df.query(\"correct==1\"))"
   ]
  },
  {
   "cell_type": "code",
   "execution_count": 53,
   "metadata": {},
   "outputs": [
    {
     "data": {
      "text/plain": [
       "<matplotlib.axes._subplots.AxesSubplot at 0x7f362d737910>"
      ]
     },
     "execution_count": 53,
     "metadata": {},
     "output_type": "execute_result"
    },
    {
     "data": {
      "image/png": "[encoded data removed]",
      "text/plain": [
       "<Figure size 432x288 with 1 Axes>"
      ]
     },
     "metadata": {
      "needs_background": "light"
     },
     "output_type": "display_data"
    }
   ],
   "source": [
    "sns.barplot(x='trial_type', y='correct', data=good_behavior_df,\n",
    "            order=['firsttrial', 'single', 'repeat', 'switch'],\n",
    "            estimator=lambda x: sum(x==1)*100.0/len(x))"
   ]
  },
  {
   "cell_type": "code",
   "execution_count": null,
   "metadata": {},
   "outputs": [],
   "source": []
  }
 ],
 "metadata": {
  "kernelspec": {
   "display_name": "aim1_valid",
   "language": "python",
   "name": "aim1_valid"
  },
  "language_info": {
   "codemirror_mode": {
    "name": "ipython",
    "version": 3
   },
   "file_extension": ".py",
   "mimetype": "text/x-python",
   "name": "python",
   "nbconvert_exporter": "python",
   "pygments_lexer": "ipython3",
   "version": "3.7.6"
  }
 },
 "nbformat": 4,
 "nbformat_minor": 4
}
