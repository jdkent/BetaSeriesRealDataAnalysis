{
 "cells": [
  {
   "cell_type": "code",
   "execution_count": 1,
   "metadata": {},
   "outputs": [],
   "source": [
    "import os\n",
    "# have to set the R path before I can use notebook_functions\n",
    "R_PATH = \"/home/jdkent/envs/aim1_valid/lib/R\"\n",
    "os.environ['R_HOME'] = R_PATH\n",
    "\n",
    "# number of threads you wish to parallelize across\n",
    "N_THREADS = 32\n",
    "\n",
    "# paths to the results\n",
    "LSS_SCH_PATH = '../lss-schaeferparcel-400/nibetaseries'\n",
    "LSA_SCH_PATH = '../lsa-schaeferparcel-400/nibetaseries'\n",
    "\n",
    "LSS_ACT_PATH = '../lss-overallresponse/nibetaseries'\n",
    "LSA_ACT_PATH = '../lsa-overallresponse/nibetaseries'\n",
    "\n",
    "# ppi results\n",
    "PPI_ACT_PATH = './ppiMatrices'\n",
    "# path to bold QA measures\n",
    "BOLD_QA = '../mriqc/group_bold.tsv'\n",
    "\n",
    "# path to participants file\n",
    "PARTICIPANT_DEMO = '../../participants.tsv'\n",
    "\n",
    "# absolute max the z-value can be for fisher's r->z transform\n",
    "THRESH = 2.647\n",
    "\n",
    "# activation atlas\n",
    "ACT_ATLAS = '../data/overall_response_atlas.nii.gz'\n"
   ]
  },
  {
   "cell_type": "code",
   "execution_count": 2,
   "metadata": {},
   "outputs": [
    {
     "name": "stderr",
     "output_type": "stream",
     "text": [
      "/home/jdkent/.conda/envs/aim1_valid/lib/python3.7/importlib/_bootstrap.py:219: RuntimeWarning: numpy.ufunc size changed, may indicate binary incompatibility. Expected 192 from C header, got 216 from PyObject\n",
      "  return f(*args, **kwds)\n",
      "/home/jdkent/.conda/envs/aim1_valid/lib/python3.7/importlib/_bootstrap.py:219: RuntimeWarning: numpy.ufunc size changed, may indicate binary incompatibility. Expected 216, got 192\n",
      "  return f(*args, **kwds)\n",
      "/home/jdkent/.conda/envs/aim1_valid/lib/python3.7/importlib/_bootstrap.py:219: ImportWarning: can't resolve package from __spec__ or __package__, falling back on __name__ and __path__\n",
      "  return f(*args, **kwds)\n",
      "/home/jdkent/.conda/envs/aim1_valid/lib/python3.7/site-packages/nilearn/plotting/__init__.py:20: UserWarning: \n",
      "This call to matplotlib.use() has no effect because the backend has already\n",
      "been chosen; matplotlib.use() must be called *before* pylab, matplotlib.pyplot,\n",
      "or matplotlib.backends is imported for the first time.\n",
      "\n",
      "The backend was *originally* set to 'module://ipykernel.pylab.backend_inline' by the following code:\n",
      "  File \"/home/jdkent/.conda/envs/aim1_valid/lib/python3.7/runpy.py\", line 193, in _run_module_as_main\n",
      "    \"__main__\", mod_spec)\n",
      "  File \"/home/jdkent/.conda/envs/aim1_valid/lib/python3.7/runpy.py\", line 85, in _run_code\n",
      "    exec(code, run_globals)\n",
      "  File \"/home/jdkent/.conda/envs/aim1_valid/lib/python3.7/site-packages/ipykernel_launcher.py\", line 16, in <module>\n",
      "    app.launch_new_instance()\n",
      "  File \"/home/jdkent/.conda/envs/aim1_valid/lib/python3.7/site-packages/traitlets/config/application.py\", line 664, in launch_instance\n",
      "    app.start()\n",
      "  File \"/home/jdkent/.conda/envs/aim1_valid/lib/python3.7/site-packages/ipykernel/kernelapp.py\", line 583, in start\n",
      "    self.io_loop.start()\n",
      "  File \"/home/jdkent/.conda/envs/aim1_valid/lib/python3.7/site-packages/tornado/platform/asyncio.py\", line 149, in start\n",
      "    self.asyncio_loop.run_forever()\n",
      "  File \"/home/jdkent/.conda/envs/aim1_valid/lib/python3.7/asyncio/base_events.py\", line 538, in run_forever\n",
      "    self._run_once()\n",
      "  File \"/home/jdkent/.conda/envs/aim1_valid/lib/python3.7/asyncio/base_events.py\", line 1782, in _run_once\n",
      "    handle._run()\n",
      "  File \"/home/jdkent/.conda/envs/aim1_valid/lib/python3.7/asyncio/events.py\", line 88, in _run\n",
      "    self._context.run(self._callback, *self._args)\n",
      "  File \"/home/jdkent/.conda/envs/aim1_valid/lib/python3.7/site-packages/tornado/ioloop.py\", line 690, in <lambda>\n",
      "    lambda f: self._run_callback(functools.partial(callback, future))\n",
      "  File \"/home/jdkent/.conda/envs/aim1_valid/lib/python3.7/site-packages/tornado/ioloop.py\", line 743, in _run_callback\n",
      "    ret = callback()\n",
      "  File \"/home/jdkent/.conda/envs/aim1_valid/lib/python3.7/site-packages/tornado/gen.py\", line 787, in inner\n",
      "    self.run()\n",
      "  File \"/home/jdkent/.conda/envs/aim1_valid/lib/python3.7/site-packages/tornado/gen.py\", line 748, in run\n",
      "    yielded = self.gen.send(value)\n",
      "  File \"/home/jdkent/.conda/envs/aim1_valid/lib/python3.7/site-packages/ipykernel/kernelbase.py\", line 361, in process_one\n",
      "    yield gen.maybe_future(dispatch(*args))\n",
      "  File \"/home/jdkent/.conda/envs/aim1_valid/lib/python3.7/site-packages/tornado/gen.py\", line 209, in wrapper\n",
      "    yielded = next(result)\n",
      "  File \"/home/jdkent/.conda/envs/aim1_valid/lib/python3.7/site-packages/ipykernel/kernelbase.py\", line 268, in dispatch_shell\n",
      "    yield gen.maybe_future(handler(stream, idents, msg))\n",
      "  File \"/home/jdkent/.conda/envs/aim1_valid/lib/python3.7/site-packages/tornado/gen.py\", line 209, in wrapper\n",
      "    yielded = next(result)\n",
      "  File \"/home/jdkent/.conda/envs/aim1_valid/lib/python3.7/site-packages/ipykernel/kernelbase.py\", line 541, in execute_request\n",
      "    user_expressions, allow_stdin,\n",
      "  File \"/home/jdkent/.conda/envs/aim1_valid/lib/python3.7/site-packages/tornado/gen.py\", line 209, in wrapper\n",
      "    yielded = next(result)\n",
      "  File \"/home/jdkent/.conda/envs/aim1_valid/lib/python3.7/site-packages/ipykernel/ipkernel.py\", line 300, in do_execute\n",
      "    res = shell.run_cell(code, store_history=store_history, silent=silent)\n",
      "  File \"/home/jdkent/.conda/envs/aim1_valid/lib/python3.7/site-packages/ipykernel/zmqshell.py\", line 536, in run_cell\n",
      "    return super(ZMQInteractiveShell, self).run_cell(*args, **kwargs)\n",
      "  File \"/home/jdkent/.conda/envs/aim1_valid/lib/python3.7/site-packages/IPython/core/interactiveshell.py\", line 2858, in run_cell\n",
      "    raw_cell, store_history, silent, shell_futures)\n",
      "  File \"/home/jdkent/.conda/envs/aim1_valid/lib/python3.7/site-packages/IPython/core/interactiveshell.py\", line 2886, in _run_cell\n",
      "    return runner(coro)\n",
      "  File \"/home/jdkent/.conda/envs/aim1_valid/lib/python3.7/site-packages/IPython/core/async_helpers.py\", line 68, in _pseudo_sync_runner\n",
      "    coro.send(None)\n",
      "  File \"/home/jdkent/.conda/envs/aim1_valid/lib/python3.7/site-packages/IPython/core/interactiveshell.py\", line 3063, in run_cell_async\n",
      "    interactivity=interactivity, compiler=compiler, result=result)\n",
      "  File \"/home/jdkent/.conda/envs/aim1_valid/lib/python3.7/site-packages/IPython/core/interactiveshell.py\", line 3254, in run_ast_nodes\n",
      "    if (await self.run_code(code, result,  async_=asy)):\n",
      "  File \"/home/jdkent/.conda/envs/aim1_valid/lib/python3.7/site-packages/IPython/core/interactiveshell.py\", line 3331, in run_code\n",
      "    exec(code_obj, self.user_global_ns, self.user_ns)\n",
      "  File \"<ipython-input-2-a35345df2773>\", line 4, in <module>\n",
      "    import seaborn as sns\n",
      "  File \"/home/jdkent/.conda/envs/aim1_valid/lib/python3.7/site-packages/seaborn/__init__.py\", line 6, in <module>\n",
      "    from .rcmod import *\n",
      "  File \"/home/jdkent/.conda/envs/aim1_valid/lib/python3.7/site-packages/seaborn/rcmod.py\", line 5, in <module>\n",
      "    from . import palettes, _orig_rc_params\n",
      "  File \"/home/jdkent/.conda/envs/aim1_valid/lib/python3.7/site-packages/seaborn/palettes.py\", line 12, in <module>\n",
      "    from .utils import desaturate, set_hls_values, get_color_cycle\n",
      "  File \"/home/jdkent/.conda/envs/aim1_valid/lib/python3.7/site-packages/seaborn/utils.py\", line 11, in <module>\n",
      "    import matplotlib.pyplot as plt\n",
      "  File \"/home/jdkent/.conda/envs/aim1_valid/lib/python3.7/site-packages/matplotlib/pyplot.py\", line 71, in <module>\n",
      "    from matplotlib.backends import pylab_setup\n",
      "  File \"/home/jdkent/.conda/envs/aim1_valid/lib/python3.7/site-packages/matplotlib/backends/__init__.py\", line 17, in <module>\n",
      "    line for line in traceback.format_stack()\n",
      "\n",
      "\n",
      "  matplotlib.use('Agg')\n",
      "/home/jdkent/.conda/envs/aim1_valid/lib/python3.7/importlib/_bootstrap.py:219: RuntimeWarning: numpy.ufunc size changed, may indicate binary incompatibility. Expected 216, got 192\n",
      "  return f(*args, **kwds)\n",
      "/home/jdkent/.conda/envs/aim1_valid/lib/python3.7/importlib/_bootstrap.py:219: ImportWarning: can't resolve package from __spec__ or __package__, falling back on __name__ and __path__\n",
      "  return f(*args, **kwds)\n",
      "/home/jdkent/.conda/envs/aim1_valid/lib/python3.7/site-packages/sklearn/feature_extraction/text.py:17: DeprecationWarning: Using or importing the ABCs from 'collections' instead of from 'collections.abc' is deprecated since Python 3.3,and in 3.9 it will stop working\n",
      "  from collections import Mapping, defaultdict\n",
      "/home/jdkent/.conda/envs/aim1_valid/lib/python3.7/site-packages/nilearn/datasets/neurovault.py:16: DeprecationWarning: Using or importing the ABCs from 'collections' instead of from 'collections.abc' is deprecated since Python 3.3,and in 3.9 it will stop working\n",
      "  from collections import Container\n"
     ]
    }
   ],
   "source": [
    "import re\n",
    "from subprocess import call\n",
    "\n",
    "import seaborn as sns\n",
    "import pandas as pd\n",
    "import numpy as np\n",
    "import networkx as nx\n",
    "import matplotlib.pyplot as plt\n",
    "from multiprocessing.pool import Pool\n",
    "from bids.layout import BIDSLayout\n",
    "from sklearn.metrics import confusion_matrix\n",
    "from statsmodels.stats.multitest import multipletests\n",
    "import nibabel as nib\n",
    "from nilearn.input_data import NiftiMasker, NiftiLabelsMasker\n",
    "from scipy.stats import ttest_1samp\n",
    "\n",
    "import notebook_functions as nf"
   ]
  },
  {
   "cell_type": "code",
   "execution_count": 3,
   "metadata": {},
   "outputs": [
    {
     "data": {
      "text/plain": [
       "<module 'notebook_functions' from '/home/jdkent/hpchome/bids/derivatives/PPITest/notebook_functions.py'>"
      ]
     },
     "execution_count": 3,
     "metadata": {},
     "output_type": "execute_result"
    }
   ],
   "source": [
    "import importlib\n",
    "importlib.reload(nf)"
   ]
  },
  {
   "cell_type": "markdown",
   "metadata": {},
   "source": [
    "## load the bold qa measures"
   ]
  },
  {
   "cell_type": "code",
   "execution_count": 4,
   "metadata": {},
   "outputs": [
    {
     "data": {
      "text/html": [
       "<div>\n",
       "<style scoped>\n",
       "    .dataframe tbody tr th:only-of-type {\n",
       "        vertical-align: middle;\n",
       "    }\n",
       "\n",
       "    .dataframe tbody tr th {\n",
       "        vertical-align: top;\n",
       "    }\n",
       "\n",
       "    .dataframe thead th {\n",
       "        text-align: right;\n",
       "    }\n",
       "</style>\n",
       "<table border=\"1\" class=\"dataframe\">\n",
       "  <thead>\n",
       "    <tr style=\"text-align: right;\">\n",
       "      <th></th>\n",
       "      <th>bids_name</th>\n",
       "      <th>aor</th>\n",
       "      <th>aqi</th>\n",
       "      <th>dummy_trs</th>\n",
       "      <th>dvars_nstd</th>\n",
       "      <th>dvars_std</th>\n",
       "      <th>dvars_vstd</th>\n",
       "      <th>efc</th>\n",
       "      <th>fber</th>\n",
       "      <th>fd_mean</th>\n",
       "      <th>...</th>\n",
       "      <th>summary_fg_mad</th>\n",
       "      <th>summary_fg_mean</th>\n",
       "      <th>summary_fg_median</th>\n",
       "      <th>summary_fg_n</th>\n",
       "      <th>summary_fg_p05</th>\n",
       "      <th>summary_fg_p95</th>\n",
       "      <th>summary_fg_stdv</th>\n",
       "      <th>tsnr</th>\n",
       "      <th>task</th>\n",
       "      <th>participant_id</th>\n",
       "    </tr>\n",
       "  </thead>\n",
       "  <tbody>\n",
       "    <tr>\n",
       "      <th>0</th>\n",
       "      <td>sub-GE120001_ses-pre_task-fauxbold_bold</td>\n",
       "      <td>0.001063</td>\n",
       "      <td>0.006351</td>\n",
       "      <td>2</td>\n",
       "      <td>16.187316</td>\n",
       "      <td>1.198663</td>\n",
       "      <td>1.010760</td>\n",
       "      <td>0.448331</td>\n",
       "      <td>3009467.75</td>\n",
       "      <td>0.103818</td>\n",
       "      <td>...</td>\n",
       "      <td>232.520432</td>\n",
       "      <td>1381.902222</td>\n",
       "      <td>1410.488159</td>\n",
       "      <td>29195.0</td>\n",
       "      <td>837.753119</td>\n",
       "      <td>1812.366785</td>\n",
       "      <td>297.530945</td>\n",
       "      <td>64.075073</td>\n",
       "      <td>fauxbold</td>\n",
       "      <td>GE120001</td>\n",
       "    </tr>\n",
       "    <tr>\n",
       "      <th>3</th>\n",
       "      <td>sub-GE120001_ses-pre_task-taskswitch_bold</td>\n",
       "      <td>0.003942</td>\n",
       "      <td>0.005572</td>\n",
       "      <td>2</td>\n",
       "      <td>15.734272</td>\n",
       "      <td>1.148948</td>\n",
       "      <td>0.957532</td>\n",
       "      <td>0.450887</td>\n",
       "      <td>1364181.25</td>\n",
       "      <td>0.138379</td>\n",
       "      <td>...</td>\n",
       "      <td>216.930939</td>\n",
       "      <td>1391.725708</td>\n",
       "      <td>1421.432861</td>\n",
       "      <td>29084.0</td>\n",
       "      <td>868.629898</td>\n",
       "      <td>1788.999225</td>\n",
       "      <td>284.924835</td>\n",
       "      <td>72.902779</td>\n",
       "      <td>taskswitch</td>\n",
       "      <td>GE120001</td>\n",
       "    </tr>\n",
       "    <tr>\n",
       "      <th>4</th>\n",
       "      <td>sub-GE120002_ses-pre_task-fauxbold_bold</td>\n",
       "      <td>0.002056</td>\n",
       "      <td>0.010868</td>\n",
       "      <td>1</td>\n",
       "      <td>17.975215</td>\n",
       "      <td>1.024274</td>\n",
       "      <td>1.143355</td>\n",
       "      <td>0.432753</td>\n",
       "      <td>3026978.75</td>\n",
       "      <td>0.227028</td>\n",
       "      <td>...</td>\n",
       "      <td>225.343140</td>\n",
       "      <td>1283.572998</td>\n",
       "      <td>1322.169800</td>\n",
       "      <td>27338.0</td>\n",
       "      <td>738.498715</td>\n",
       "      <td>1686.504254</td>\n",
       "      <td>287.157501</td>\n",
       "      <td>47.578674</td>\n",
       "      <td>fauxbold</td>\n",
       "      <td>GE120002</td>\n",
       "    </tr>\n",
       "    <tr>\n",
       "      <th>7</th>\n",
       "      <td>sub-GE120002_ses-pre_task-taskswitch_bold</td>\n",
       "      <td>0.002134</td>\n",
       "      <td>0.004827</td>\n",
       "      <td>1</td>\n",
       "      <td>16.918552</td>\n",
       "      <td>1.176876</td>\n",
       "      <td>0.990735</td>\n",
       "      <td>0.431836</td>\n",
       "      <td>4213331.00</td>\n",
       "      <td>0.169619</td>\n",
       "      <td>...</td>\n",
       "      <td>229.552505</td>\n",
       "      <td>1292.104004</td>\n",
       "      <td>1334.634033</td>\n",
       "      <td>27340.0</td>\n",
       "      <td>734.595834</td>\n",
       "      <td>1700.930396</td>\n",
       "      <td>292.718201</td>\n",
       "      <td>71.898445</td>\n",
       "      <td>taskswitch</td>\n",
       "      <td>GE120002</td>\n",
       "    </tr>\n",
       "    <tr>\n",
       "      <th>8</th>\n",
       "      <td>sub-GE120003_ses-pre_task-fauxbold_bold</td>\n",
       "      <td>0.003094</td>\n",
       "      <td>0.018135</td>\n",
       "      <td>1</td>\n",
       "      <td>38.223070</td>\n",
       "      <td>1.116687</td>\n",
       "      <td>0.909317</td>\n",
       "      <td>0.393451</td>\n",
       "      <td>2381240.50</td>\n",
       "      <td>0.577373</td>\n",
       "      <td>...</td>\n",
       "      <td>246.342178</td>\n",
       "      <td>1247.227295</td>\n",
       "      <td>1309.490601</td>\n",
       "      <td>23125.0</td>\n",
       "      <td>595.968738</td>\n",
       "      <td>1648.415723</td>\n",
       "      <td>314.057434</td>\n",
       "      <td>31.255548</td>\n",
       "      <td>fauxbold</td>\n",
       "      <td>GE120003</td>\n",
       "    </tr>\n",
       "  </tbody>\n",
       "</table>\n",
       "<p>5 rows × 47 columns</p>\n",
       "</div>"
      ],
      "text/plain": [
       "                                   bids_name       aor       aqi  dummy_trs  \\\n",
       "0    sub-GE120001_ses-pre_task-fauxbold_bold  0.001063  0.006351          2   \n",
       "3  sub-GE120001_ses-pre_task-taskswitch_bold  0.003942  0.005572          2   \n",
       "4    sub-GE120002_ses-pre_task-fauxbold_bold  0.002056  0.010868          1   \n",
       "7  sub-GE120002_ses-pre_task-taskswitch_bold  0.002134  0.004827          1   \n",
       "8    sub-GE120003_ses-pre_task-fauxbold_bold  0.003094  0.018135          1   \n",
       "\n",
       "   dvars_nstd  dvars_std  dvars_vstd       efc        fber   fd_mean  ...  \\\n",
       "0   16.187316   1.198663    1.010760  0.448331  3009467.75  0.103818  ...   \n",
       "3   15.734272   1.148948    0.957532  0.450887  1364181.25  0.138379  ...   \n",
       "4   17.975215   1.024274    1.143355  0.432753  3026978.75  0.227028  ...   \n",
       "7   16.918552   1.176876    0.990735  0.431836  4213331.00  0.169619  ...   \n",
       "8   38.223070   1.116687    0.909317  0.393451  2381240.50  0.577373  ...   \n",
       "\n",
       "   summary_fg_mad  summary_fg_mean  summary_fg_median  summary_fg_n  \\\n",
       "0      232.520432      1381.902222        1410.488159       29195.0   \n",
       "3      216.930939      1391.725708        1421.432861       29084.0   \n",
       "4      225.343140      1283.572998        1322.169800       27338.0   \n",
       "7      229.552505      1292.104004        1334.634033       27340.0   \n",
       "8      246.342178      1247.227295        1309.490601       23125.0   \n",
       "\n",
       "   summary_fg_p05  summary_fg_p95  summary_fg_stdv       tsnr        task  \\\n",
       "0      837.753119     1812.366785       297.530945  64.075073    fauxbold   \n",
       "3      868.629898     1788.999225       284.924835  72.902779  taskswitch   \n",
       "4      738.498715     1686.504254       287.157501  47.578674    fauxbold   \n",
       "7      734.595834     1700.930396       292.718201  71.898445  taskswitch   \n",
       "8      595.968738     1648.415723       314.057434  31.255548    fauxbold   \n",
       "\n",
       "   participant_id  \n",
       "0        GE120001  \n",
       "3        GE120001  \n",
       "4        GE120002  \n",
       "7        GE120002  \n",
       "8        GE120003  \n",
       "\n",
       "[5 rows x 47 columns]"
      ]
     },
     "execution_count": 4,
     "metadata": {},
     "output_type": "execute_result"
    }
   ],
   "source": [
    "def proc_bold_qa(bold_qa_file):\n",
    "    bold_qa = pd.read_csv(bold_qa_file, sep='\\t')\n",
    "    # drop the rest rows\n",
    "    bold_qa = bold_qa[~bold_qa['bids_name'].str.contains('.*rest.*')]\n",
    "    \n",
    "    split_columns = bold_qa['bids_name'].str.split('_|-', n = 7, expand = True)\n",
    "    bold_qa['task'] = split_columns[5]\n",
    "    bold_qa['participant_id'] = split_columns[1]\n",
    "    return bold_qa\n",
    "\n",
    "bold_qa = proc_bold_qa(BOLD_QA)\n",
    "bold_qa.head()"
   ]
  },
  {
   "cell_type": "code",
   "execution_count": 5,
   "metadata": {},
   "outputs": [],
   "source": [
    "bold_qa_select = bold_qa[['participant_id', 'task', 'tsnr', 'fd_mean', 'fd_num']]"
   ]
  },
  {
   "cell_type": "code",
   "execution_count": 6,
   "metadata": {},
   "outputs": [
    {
     "data": {
      "text/plain": [
       "array(['GE120003', 'GE120015', 'GE120020', 'GE120021', 'GE120024',\n",
       "       'GE120026', 'GE120037', 'GE120038', 'GE120039', 'GE120043',\n",
       "       'GE120045', 'GE120049', 'GE120052', 'GE120054', 'GE120055',\n",
       "       'GE120059', 'GE120060', 'GE120065', 'GE120068', 'GE120069',\n",
       "       'GE120075'], dtype=object)"
      ]
     },
     "execution_count": 6,
     "metadata": {},
     "output_type": "execute_result"
    }
   ],
   "source": [
    "# eliminate people with fd_num >= 100 (threshold to keep number of regressors low)\n",
    "bad_participants = bold_qa_select[bold_qa_select['fd_num'] >= 100]['participant_id'].unique()\n",
    "bad_participants"
   ]
  },
  {
   "cell_type": "code",
   "execution_count": 7,
   "metadata": {},
   "outputs": [
    {
     "name": "stderr",
     "output_type": "stream",
     "text": [
      "/home/jdkent/.conda/envs/aim1_valid/lib/python3.7/site-packages/pandas/core/frame.py:3940: SettingWithCopyWarning: \n",
      "A value is trying to be set on a copy of a slice from a DataFrame\n",
      "\n",
      "See the caveats in the documentation: http://pandas.pydata.org/pandas-docs/stable/indexing.html#indexing-view-versus-copy\n",
      "  errors=errors)\n"
     ]
    }
   ],
   "source": [
    "# drop the num measurement\n",
    "bold_qa_select.drop(columns='fd_num', inplace=True)"
   ]
  },
  {
   "cell_type": "markdown",
   "metadata": {},
   "source": [
    "### Get the correlation files"
   ]
  },
  {
   "cell_type": "code",
   "execution_count": 8,
   "metadata": {},
   "outputs": [],
   "source": [
    "lss_sch_layout = BIDSLayout(LSS_SCH_PATH, validate=False, config=['bids', 'derivatives'])\n",
    "lsa_sch_layout = BIDSLayout(LSA_SCH_PATH, validate=False, config=['bids', 'derivatives'])\n",
    "lss_act_layout = BIDSLayout(LSS_ACT_PATH, validate=False, config=['bids', 'derivatives'])\n",
    "lsa_act_layout = BIDSLayout(LSA_ACT_PATH, validate=False, config=['bids', 'derivatives'])\n",
    "ppi_act_layout = BIDSLayout(PPI_ACT_PATH, validate=False, config=['bids', 'derivatives'])"
   ]
  },
  {
   "cell_type": "code",
   "execution_count": 9,
   "metadata": {},
   "outputs": [
    {
     "data": {
      "text/plain": [
       "40"
      ]
     },
     "execution_count": 9,
     "metadata": {},
     "output_type": "execute_result"
    }
   ],
   "source": [
    "ent = lss_sch_layout.entities['subject']\n",
    "good_participants = list(set(ent.unique()) - set(bad_participants))\n",
    "len(good_participants)"
   ]
  },
  {
   "cell_type": "code",
   "execution_count": 10,
   "metadata": {},
   "outputs": [],
   "source": [
    "ts_act_lss_objs = nf.get_layout_objects(lss_act_layout,\n",
    "                                        ['switch', 'repeat', 'single'],\n",
    "                                        suffix=\"correlation\", extension=\"tsv\",\n",
    "                                        task=\"taskswitch\",\n",
    "                                        subject=good_participants)\n",
    "\n",
    "ts_act_lsa_objs = nf.get_layout_objects(lsa_act_layout,\n",
    "                                        ['switch', 'repeat', 'single'],\n",
    "                                        suffix=\"correlation\", extension=\"tsv\",\n",
    "                                        task=\"taskswitch\",\n",
    "                                        subject=good_participants)\n",
    "\n",
    "ts_act_ppi_objs = nf.get_layout_objects(ppi_act_layout,\n",
    "                                       ['switchxsingle', 'repeatxsingle', 'switchxrepeat'],\n",
    "                                       suffix=\"matrix\", extension=\"tsv\",\n",
    "                                       task=\"taskswitch\",\n",
    "                                       subject=good_participants)\n",
    "\n",
    "fb_act_ppi_objs = nf.get_layout_objects(ppi_act_layout,\n",
    "                                       ['switchxsingle', 'repeatxsingle', 'switchxrepeat'],\n",
    "                                       suffix=\"matrix\", extension=\"tsv\",\n",
    "                                       task=\"fauxbold\",\n",
    "                                       subject=good_participants)"
   ]
  },
  {
   "cell_type": "code",
   "execution_count": 11,
   "metadata": {},
   "outputs": [],
   "source": [
    "ts_act_lss_switchxrepeat = nf.bind_matrices(ts_act_lss_objs['switch'], \"switch\").iloc[:,:-2] - nf.bind_matrices(ts_act_lss_objs['repeat'], \"repeat\").iloc[:,:-2]\n",
    "ts_act_ppi_switchxrepeat = nf.bind_matrices(ts_act_ppi_objs['switchxrepeat'], \"ppi\")\n",
    "fb_act_ppi_switchxrepeat = nf.bind_matrices(fb_act_ppi_objs['switchxrepeat'], \"ppi\")\n",
    "fb_act_ppi_switchxsingle = nf.bind_matrices(fb_act_ppi_objs['switchxsingle'], \"ppi\")\n",
    "fb_act_ppi_repeatxsingle = nf.bind_matrices(fb_act_ppi_objs['repeatxsingle'], \"ppi\")\n",
    "ts_act_ppi_repeatxsingle = nf.bind_matrices(ts_act_ppi_objs['repeatxsingle'], \"ppi\")\n",
    "ts_act_lss_switchxrepeat[['participant_id', 'task']] = ts_act_ppi_switchxrepeat[['participant_id', 'task']]"
   ]
  },
  {
   "cell_type": "code",
   "execution_count": 12,
   "metadata": {},
   "outputs": [],
   "source": [
    "ts_act_ppi_switchxrepeat_model = nf.model_corr_diff_mt(\n",
    "    ts_act_ppi_switchxrepeat,\n",
    "    n_threads=N_THREADS,\n",
    "    use_python=True,\n",
    "    one_sample=True)"
   ]
  },
  {
   "cell_type": "code",
   "execution_count": 13,
   "metadata": {},
   "outputs": [],
   "source": [
    "ts_act_ppi_switchxsingle = nf.bind_matrices(ts_act_ppi_objs['switchxsingle'], \"ppi\")"
   ]
  },
  {
   "cell_type": "code",
   "execution_count": 14,
   "metadata": {},
   "outputs": [],
   "source": [
    "ts_act_ppi_switchxsingle_model = nf.model_corr_diff_mt(\n",
    "    ts_act_ppi_switchxsingle,\n",
    "    n_threads=N_THREADS,\n",
    "    use_python=True,\n",
    "    one_sample=True)"
   ]
  },
  {
   "cell_type": "code",
   "execution_count": 15,
   "metadata": {},
   "outputs": [
    {
     "data": {
      "text/plain": [
       "18"
      ]
     },
     "execution_count": 15,
     "metadata": {},
     "output_type": "execute_result"
    }
   ],
   "source": [
    "# this is a much greater number of significant differences than found with BSC\n",
    "(ts_act_ppi_switchxrepeat_model['p_value'] < 0.05).sum()"
   ]
  },
  {
   "cell_type": "code",
   "execution_count": 16,
   "metadata": {},
   "outputs": [],
   "source": [
    "fb_act_ppi_switchxrepeat_model = nf.model_corr_diff_mt(\n",
    "    fb_act_ppi_switchxrepeat,\n",
    "    n_threads=N_THREADS,\n",
    "    use_python=True,\n",
    "    one_sample=True)"
   ]
  },
  {
   "cell_type": "code",
   "execution_count": 17,
   "metadata": {},
   "outputs": [
    {
     "data": {
      "text/plain": [
       "13"
      ]
     },
     "execution_count": 17,
     "metadata": {},
     "output_type": "execute_result"
    }
   ],
   "source": [
    "# this is a much greater number of significant differences than found with BSC\n",
    "(fb_act_ppi_switchxrepeat_model['p_value'] < 0.05).sum()"
   ]
  },
  {
   "cell_type": "code",
   "execution_count": 18,
   "metadata": {},
   "outputs": [],
   "source": [
    "fb_act_ppi_switchxsingle_model = nf.model_corr_diff_mt(\n",
    "    fb_act_ppi_switchxsingle,\n",
    "    n_threads=N_THREADS,\n",
    "    use_python=True,\n",
    "    one_sample=True)"
   ]
  },
  {
   "cell_type": "code",
   "execution_count": 19,
   "metadata": {},
   "outputs": [
    {
     "data": {
      "text/plain": [
       "18"
      ]
     },
     "execution_count": 19,
     "metadata": {},
     "output_type": "execute_result"
    }
   ],
   "source": [
    "(fb_act_ppi_switchxsingle_model['p_value'] < 0.05).sum()"
   ]
  },
  {
   "cell_type": "code",
   "execution_count": 20,
   "metadata": {},
   "outputs": [],
   "source": [
    "fb_act_ppi_repeatxsingle_model = nf.model_corr_diff_mt(\n",
    "    fb_act_ppi_repeatxsingle,\n",
    "    n_threads=N_THREADS,\n",
    "    use_python=True,\n",
    "    one_sample=True)"
   ]
  },
  {
   "cell_type": "code",
   "execution_count": 21,
   "metadata": {},
   "outputs": [
    {
     "data": {
      "text/plain": [
       "24"
      ]
     },
     "execution_count": 21,
     "metadata": {},
     "output_type": "execute_result"
    }
   ],
   "source": [
    "(fb_act_ppi_repeatxsingle_model['p_value'] < 0.05).sum()"
   ]
  },
  {
   "cell_type": "code",
   "execution_count": 22,
   "metadata": {},
   "outputs": [],
   "source": [
    "ts_act_ppi_repeatxsingle_model = nf.model_corr_diff_mt(\n",
    "    ts_act_ppi_repeatxsingle,\n",
    "    n_threads=N_THREADS,\n",
    "    use_python=True,\n",
    "    one_sample=True)"
   ]
  },
  {
   "cell_type": "code",
   "execution_count": 23,
   "metadata": {},
   "outputs": [
    {
     "data": {
      "text/plain": [
       "25"
      ]
     },
     "execution_count": 23,
     "metadata": {},
     "output_type": "execute_result"
    }
   ],
   "source": [
    "(ts_act_ppi_repeatxsingle_model['p_value'] < 0.05).sum()"
   ]
  },
  {
   "cell_type": "code",
   "execution_count": 37,
   "metadata": {},
   "outputs": [],
   "source": [
    "res = nf.count_positives_from_permutations(wide_df=ts_act_ppi_switchxsingle, use_python=True, one_sample=True, nthreads=32, permutations=32)"
   ]
  },
  {
   "cell_type": "code",
   "execution_count": 38,
   "metadata": {},
   "outputs": [
    {
     "data": {
      "text/plain": [
       "10.96875"
      ]
     },
     "execution_count": 38,
     "metadata": {},
     "output_type": "execute_result"
    }
   ],
   "source": [
    "sum(res) / len(res)\n"
   ]
  },
  {
   "cell_type": "code",
   "execution_count": null,
   "metadata": {},
   "outputs": [],
   "source": []
  }
 ],
 "metadata": {
  "kernelspec": {
   "display_name": "aim1_valid",
   "language": "python",
   "name": "aim1_valid"
  },
  "language_info": {
   "codemirror_mode": {
    "name": "ipython",
    "version": 3
   },
   "file_extension": ".py",
   "mimetype": "text/x-python",
   "name": "python",
   "nbconvert_exporter": "python",
   "pygments_lexer": "ipython3",
   "version": "3.7.6"
  }
 },
 "nbformat": 4,
 "nbformat_minor": 4
}
