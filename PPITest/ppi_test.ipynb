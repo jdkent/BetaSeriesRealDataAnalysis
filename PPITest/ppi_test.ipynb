{
 "cells": [
  {
   "cell_type": "code",
   "execution_count": 1,
   "metadata": {},
   "outputs": [
    {
     "name": "stderr",
     "output_type": "stream",
     "text": [
      "/home/jdkent/.conda/envs/aim1_valid/lib/python3.7/importlib/_bootstrap.py:219: RuntimeWarning: numpy.ufunc size changed, may indicate binary incompatibility. Expected 192 from C header, got 216 from PyObject\n",
      "  return f(*args, **kwds)\n",
      "/home/jdkent/.conda/envs/aim1_valid/lib/python3.7/site-packages/duecredit/utils.py:32: DeprecationWarning: dist() and linux_distribution() functions are deprecated in Python 3.5\n",
      "  and platform.linux_distribution()[0] == 'debian' \\\n",
      "/home/jdkent/.conda/envs/aim1_valid/lib/python3.7/site-packages/duecredit/io.py:18: DeprecationWarning: Using or importing the ABCs from 'collections' instead of from 'collections.abc' is deprecated since Python 3.3,and in 3.9 it will stop working\n",
      "  from collections import defaultdict, Iterator\n",
      "/home/jdkent/.conda/envs/aim1_valid/lib/python3.7/importlib/_bootstrap.py:219: RuntimeWarning: numpy.ufunc size changed, may indicate binary incompatibility. Expected 216, got 192\n",
      "  return f(*args, **kwds)\n",
      "/home/jdkent/.conda/envs/aim1_valid/lib/python3.7/importlib/_bootstrap.py:219: ImportWarning: can't resolve package from __spec__ or __package__, falling back on __name__ and __path__\n",
      "  return f(*args, **kwds)\n",
      "/home/jdkent/.conda/envs/aim1_valid/lib/python3.7/importlib/_bootstrap.py:219: RuntimeWarning: numpy.dtype size changed, may indicate binary incompatibility. Expected 96, got 88\n",
      "  return f(*args, **kwds)\n",
      "/home/jdkent/.conda/envs/aim1_valid/lib/python3.7/importlib/_bootstrap.py:219: RuntimeWarning: numpy.ufunc size changed, may indicate binary incompatibility. Expected 216, got 192\n",
      "  return f(*args, **kwds)\n",
      "/home/jdkent/.conda/envs/aim1_valid/lib/python3.7/importlib/_bootstrap.py:219: ImportWarning: can't resolve package from __spec__ or __package__, falling back on __name__ and __path__\n",
      "  return f(*args, **kwds)\n",
      "/home/jdkent/.conda/envs/aim1_valid/lib/python3.7/importlib/_bootstrap.py:219: RuntimeWarning: numpy.ufunc size changed, may indicate binary incompatibility. Expected 192 from C header, got 216 from PyObject\n",
      "  return f(*args, **kwds)\n"
     ]
    }
   ],
   "source": [
    "import os\n",
    "\n",
    "import matplotlib.pyplot as plt\n",
    "import matplotlib\n",
    "import numpy as np\n",
    "import pandas as pd\n",
    "import nibabel as nib\n",
    "\n",
    "from nistats import design_matrix as dm\n",
    "from bids.layout import BIDSLayout\n",
    "from scipy.signal import convolve, resample\n",
    "from nistats import hemodynamic_models\n",
    "from sklearn.linear_model import Ridge\n",
    "from sklearn.preprocessing import normalize\n",
    "from nilearn.input_data import NiftiLabelsMasker\n",
    "import seaborn as sns"
   ]
  },
  {
   "cell_type": "code",
   "execution_count": 2,
   "metadata": {},
   "outputs": [],
   "source": [
    "# borrowed from:\n",
    "# https://github.com/achennings/python_deconvolution/blob/master/deconvolve.ipynb?fbclid=IwAR1bpNjAcxZ9x24oZiwsZE_Rcjg-FLuUp1zoJ7vmS_lZCBti-0ITkCJ0RG8\n",
    "# https://github.com/kbonna/decidenet/blob/master/connectivity_analysis/dn_ca_01_ridge_deconvolution.ipynb\n",
    "def dct_basis(n, k):\n",
    "    '''Creates basis functions for Discrete Cosine Transform (DCT).\n",
    "    \n",
    "    Args:\n",
    "        n (int): Number of signal timepoints.\n",
    "        k (int): Number of basis functions.\n",
    "        \n",
    "    Returns:\n",
    "        Discrete cosine basis set in a matrix form. Shape of the matrix is n x k.\n",
    "    '''\n",
    "    X = np.zeros((n, k))\n",
    "    for i in range(k):\n",
    "        X[:, i] = np.sqrt(2 / n) * np.cos(np.pi * np.arange(n) * i / n)\n",
    "    return X\n",
    "\n",
    "\n",
    "def deconvolve(signal, alpha, X, HX):\n",
    "    '''Deconvolve signal using ridge regression and cosine basis set.\n",
    "    \n",
    "    Uses ridge regression for solving set of correlated linear equations. Ridge regression allows \n",
    "    solving matrix equation y=Xb+e introducing regularization parameter. X corresponds to chosen\n",
    "    basis set (here cosine set convolved with HRF), b is a vector of unknown weights for basis \n",
    "    functions and y is modeled signal. Fitted b weights are used to recreate neural signal as linear\n",
    "    combinations of unconvolved cosines.\n",
    "    \n",
    "    Args:\n",
    "        signal (iterable):\n",
    "            BOLD signal.\n",
    "        alpha (float):\n",
    "            Regularization parameter (lower-bounded by zero).\n",
    "        X (2-D array):\n",
    "            Basis functions in neural space (not convolved).\n",
    "        HX (2-D array):\n",
    "            Basis functions in BOLD space (convolved with HRF).\n",
    "        \n",
    "    Returns:\n",
    "        Deconvolved BOLD signal in neural space.\n",
    "    '''\n",
    "    lin = Ridge(\n",
    "        alpha=alpha,\n",
    "        solver='lsqr',\n",
    "        fit_intercept=False,\n",
    "        normalize=False,\n",
    "        max_iter=1000\n",
    "    )\n",
    "    lin.fit(HX, signal)\n",
    "    return np.matmul(X, lin.coef_)\n",
    "\n",
    "\n",
    "def _select_confounds(confounds_file, selected_confounds):\n",
    "    \"\"\"Process and return selected confounds from the confounds file\n",
    "    Parameters\n",
    "    ----------\n",
    "    confounds_file : str\n",
    "        File that contains all usable confounds\n",
    "    selected_confounds : list\n",
    "        List containing all desired confounds.\n",
    "        confounds can be listed as regular expressions (e.g., \"motion_outlier.*\")\n",
    "    Returns\n",
    "    -------\n",
    "    desired_confounds : DataFrame\n",
    "        contains all desired (processed) confounds.\n",
    "    \"\"\"\n",
    "    import pandas as pd\n",
    "    import numpy as np\n",
    "    import re\n",
    "\n",
    "    confounds_df = pd.read_csv(confounds_file, sep='\\t', na_values='n/a')\n",
    "    # regular expression to capture confounds specified at the command line\n",
    "    confound_expr = re.compile(r\"|\".join(selected_confounds))\n",
    "    expanded_confounds = list(filter(confound_expr.fullmatch, confounds_df.columns))\n",
    "    imputables = ('framewise_displacement', 'std_dvars', 'dvars', '.*derivative1.*')\n",
    "\n",
    "    # regular expression to capture all imputable confounds\n",
    "    impute_expr = re.compile(r\"|\".join(imputables))\n",
    "    expanded_imputables = list(filter(impute_expr.fullmatch, expanded_confounds))\n",
    "    for imputable in expanded_imputables:\n",
    "        vals = confounds_df[imputable].values\n",
    "        if not np.isnan(vals[0]):\n",
    "            continue\n",
    "        # Impute the mean non-zero, non-NaN value\n",
    "        confounds_df[imputable][0] = np.nanmean(vals[vals != 0])\n",
    "\n",
    "    desired_confounds = confounds_df[expanded_confounds]\n",
    "    # check to see if there are any remaining nans\n",
    "    if desired_confounds.isna().values.any():\n",
    "        msg = \"The selected confounds contain nans: {conf}\".format(conf=expanded_confounds)\n",
    "        raise ValueError(msg)\n",
    "    return desired_confounds\n",
    "\n",
    "\n",
    "def get_duplicate_columns(df):\n",
    "    '''\n",
    "    Get a list of duplicate columns.\n",
    "    It will iterate over all the columns in dataframe and find the columns whose contents are duplicate.\n",
    "    :param df: Dataframe object\n",
    "    :return: List of columns whose contents are duplicates.\n",
    "    '''\n",
    "    duplicateColumnNames = set()\n",
    "    # Iterate over all the columns in dataframe\n",
    "    for x in range(df.shape[1]):\n",
    "        # Select column at xth index.\n",
    "        col = df.iloc[:, x]\n",
    "        # Iterate over all the columns in DataFrame from (x+1)th index till end\n",
    "        for y in range(x + 1, df.shape[1]):\n",
    "            # Select column at yth index.\n",
    "            otherCol = df.iloc[:, y]\n",
    "            # Check if two columns at x 7 y index are equal\n",
    "            if np.all(np.isclose(col, otherCol)):\n",
    "                duplicateColumnNames.add(df.columns.values[y])\n",
    "    return list(duplicateColumnNames)\n",
    "\n",
    "\n",
    "def convolve_signal(signal, t_r=2, oversampling=50, hrf_model='spm'):\n",
    "    '''Convolve signal with hemodynamic response function.\n",
    "    \n",
    "    Performs signal convolution with requested hrf model. This function wraps around nistats \n",
    "    compute_regressor function usually used for creating task-based regressors. The trick is to \n",
    "    define neural regressor as a sequence of equally spaced (with the gap of 1TR) and modulated\n",
    "    'task events'. Event amplitude modulation corresponds to neural signal amplitude at a given \n",
    "    timepoint.\n",
    "    \n",
    "    Args:\n",
    "        signal (iterable):\n",
    "            Neural signal.\n",
    "        t_r (float):\n",
    "            Repetition time in seconds.\n",
    "        oversampling (int, optional):\n",
    "            Convolution upsampling rate.\n",
    "        hrf_model (str, optional):\n",
    "            Hemodynamic response function type. See the documentation of compute regressor function \n",
    "            from nistats.hemodynamic_models for more details.\n",
    "            \n",
    "    Returns:\n",
    "        Convolved neural signal in BOLD space.\n",
    "    '''\n",
    "    n_volumes = len(signal)\n",
    "    frame_times = np.arange(0, n_volumes * t_r, t_r)\n",
    "    onsets = np.zeros((3, n_volumes))\n",
    "    for vol, amplitude in enumerate(signal):\n",
    "        onsets[:, vol] = (vol * t_r, 0, amplitude)\n",
    "\n",
    "    signal_bold = hemodynamic_models.compute_regressor(\n",
    "        onsets,\n",
    "        hrf_model=hrf_model,                              \n",
    "        frame_times=frame_times,\n",
    "        oversampling=oversampling,     \n",
    "        fir_delays=None)[0].ravel()\n",
    "\n",
    "    return signal_bold"
   ]
  },
  {
   "cell_type": "code",
   "execution_count": 3,
   "metadata": {},
   "outputs": [],
   "source": [
    "# Hardcoded PATHS\n",
    "BIDS_PATH = '../..'\n",
    "FMRIPREP_PATH = '../fmriprep'\n",
    "# DATABASE_PATH = '/home/jdkent/first_level.sqlite'\n",
    "# DATABASE_PATH = '/home/jdkent/'\n",
    "FIRST_LEVEL_RESULTS = './outputs/first_level_res.pkl'\n",
    "SECOND_LEVEL_RESULTS = './outputs/second_level_res.pkl'\n",
    "# path to bold QA measures\n",
    "BOLD_QA = '../mriqc/group_bold.tsv'\n",
    "\n",
    "# OUTPUTS\n",
    "ATLAS_PATH = '../data/overall_response_atlas.nii.gz'\n",
    "ATLAS_LUT = '../data/overall_response.tsv'"
   ]
  },
  {
   "cell_type": "code",
   "execution_count": 4,
   "metadata": {},
   "outputs": [],
   "source": [
    "# layout to get the necessary data files\n",
    "layout = BIDSLayout(BIDS_PATH,\n",
    "                    derivatives=FMRIPREP_PATH,\n",
    "                    # database_path=DATABASE_PATH,\n",
    "                    #reset_database=False\n",
    ")"
   ]
  },
  {
   "cell_type": "code",
   "execution_count": 5,
   "metadata": {},
   "outputs": [],
   "source": [
    "participant = layout.get_subjects()[0]\n",
    "task = 'taskswitch'"
   ]
  },
  {
   "cell_type": "code",
   "execution_count": 6,
   "metadata": {},
   "outputs": [],
   "source": [
    "preproc = layout.get(subject=participant,\n",
    "                 suffix='bold',\n",
    "                 extension='nii.gz',\n",
    "                 desc='preproc',\n",
    "                 space='MNI152NLin2009cAsym',\n",
    "                 task=task)[0]\n",
    "\n",
    "confounds_file = layout.get(subject=participant,\n",
    "                            suffix='regressors',\n",
    "                            extension='tsv',\n",
    "                            desc='confounds',\n",
    "                            task=task,\n",
    "                            return_type='file')[0]\n",
    "\n",
    "event_file = layout.get(subject=participant,\n",
    "                            suffix='events',\n",
    "                            extension='tsv',\n",
    "                            task=task,\n",
    "                            return_type='file')[0]\n",
    "\n",
    "mask_file = layout.get(suffix='mask',\n",
    "                        extension='nii.gz',\n",
    "                        desc='brain',\n",
    "                        space='MNI152NLin2009cAsym',\n",
    "                        task=task,\n",
    "                        subject=participant,\n",
    "                        return_type='file')[0]"
   ]
  },
  {
   "cell_type": "code",
   "execution_count": 7,
   "metadata": {},
   "outputs": [],
   "source": [
    "masker = NiftiLabelsMasker(ATLAS_PATH)"
   ]
  },
  {
   "cell_type": "code",
   "execution_count": 8,
   "metadata": {},
   "outputs": [
    {
     "name": "stderr",
     "output_type": "stream",
     "text": [
      "/home/jdkent/.conda/envs/aim1_valid/lib/python3.7/importlib/_bootstrap.py:219: RuntimeWarning: numpy.ufunc size changed, may indicate binary incompatibility. Expected 216, got 192\n",
      "  return f(*args, **kwds)\n",
      "/home/jdkent/.conda/envs/aim1_valid/lib/python3.7/importlib/_bootstrap.py:219: ImportWarning: can't resolve package from __spec__ or __package__, falling back on __name__ and __path__\n",
      "  return f(*args, **kwds)\n",
      "/home/jdkent/.conda/envs/aim1_valid/lib/python3.7/site-packages/sklearn/feature_extraction/text.py:17: DeprecationWarning: Using or importing the ABCs from 'collections' instead of from 'collections.abc' is deprecated since Python 3.3,and in 3.9 it will stop working\n",
      "  from collections import Mapping, defaultdict\n"
     ]
    }
   ],
   "source": [
    "# remove all confounds from the timeseries.\n",
    "confounds = [\n",
    "    \"white_matter\",\n",
    "    \"csf\",\n",
    "    \"cosine[0-9]{2}\",\n",
    "    \"framewise_displacement\",\n",
    "    \"non_steady_state_outlier[0-9]{2}\",\n",
    "    \"motion_outlier[0-9]{2}\"\n",
    "]\n",
    "confounds_df = _select_confounds(confounds_file, confounds)\n",
    "test_ts = masker.fit_transform(preproc.path, confounds=confounds_df.values)"
   ]
  },
  {
   "cell_type": "code",
   "execution_count": 9,
   "metadata": {
    "scrolled": true
   },
   "outputs": [
    {
     "data": {
      "text/plain": [
       "[<matplotlib.lines.Line2D at 0x7f0b5e242790>]"
      ]
     },
     "execution_count": 9,
     "metadata": {},
     "output_type": "execute_result"
    },
    {
     "data": {
      "image/png": "[encoded data removed]",
      "text/plain": [
       "<Figure size 432x288 with 1 Axes>"
      ]
     },
     "metadata": {
      "needs_background": "light"
     },
     "output_type": "display_data"
    }
   ],
   "source": [
    "plt.plot(test_ts[:,5])"
   ]
  },
  {
   "cell_type": "code",
   "execution_count": 10,
   "metadata": {},
   "outputs": [],
   "source": [
    "# create events time series in upsampled space (for the single condition)\n",
    "events_df = pd.read_csv(event_file, sep='\\t')"
   ]
  },
  {
   "cell_type": "code",
   "execution_count": 11,
   "metadata": {
    "scrolled": true
   },
   "outputs": [],
   "source": [
    "tr = preproc.get_metadata()['RepetitionTime']\n",
    "\n",
    "\n",
    "# stim_length = events_df.query(\"trial_type == 'single'\")[\"duration\"].mean()\n",
    "# onsets = events_df.query(\"trial_type == 'single'\")['onset']"
   ]
  },
  {
   "cell_type": "code",
   "execution_count": 12,
   "metadata": {},
   "outputs": [
    {
     "ename": "NameError",
     "evalue": "name 'test_ts_upsample' is not defined",
     "output_type": "error",
     "traceback": [
      "\u001b[0;31m---------------------------------------------------------------------------\u001b[0m",
      "\u001b[0;31mNameError\u001b[0m                                 Traceback (most recent call last)",
      "\u001b[0;32m<ipython-input-12-ba1d14af90eb>\u001b[0m in \u001b[0;36m<module>\u001b[0;34m\u001b[0m\n\u001b[0;32m----> 1\u001b[0;31m \u001b[0mtest_ts_upsample\u001b[0m\u001b[0;34m.\u001b[0m\u001b[0mshape\u001b[0m\u001b[0;34m\u001b[0m\u001b[0;34m\u001b[0m\u001b[0m\n\u001b[0m",
      "\u001b[0;31mNameError\u001b[0m: name 'test_ts_upsample' is not defined"
     ]
    }
   ],
   "source": [
    "test_ts_upsample.shape"
   ]
  },
  {
   "cell_type": "code",
   "execution_count": null,
   "metadata": {
    "scrolled": true
   },
   "outputs": [],
   "source": [
    "plt.plot(test_ts_upsample[:,0])"
   ]
  },
  {
   "cell_type": "code",
   "execution_count": null,
   "metadata": {
    "scrolled": true
   },
   "outputs": [],
   "source": [
    "plt.plot(test_ts[:,0])"
   ]
  },
  {
   "cell_type": "code",
   "execution_count": null,
   "metadata": {},
   "outputs": [],
   "source": [
    "xb = dct_basis(test_ts.shape[0], test_ts.shape[0])"
   ]
  },
  {
   "cell_type": "code",
   "execution_count": null,
   "metadata": {},
   "outputs": [],
   "source": [
    "# \n",
    "hrf = np.array(hemodynamic_models._gamma_difference_hrf(tr=(tr / upsample_factor), oversampling=1))\n",
    "Hxb = np.zeros((test_ts.shape[0], test_ts.shape[0]))\n",
    "for i in range(test_ts.shape[0]):\n",
    "    Hx = convolve(xb[:,i], hrf)[:test_ts.shape[0]]\n",
    "    Hxb[:,i] = Hx\n",
    "    \n",
    "\n",
    "HXb2 = np.zeros(xb.shape)\n",
    "for i, xi in enumerate(xb):\n",
    "    HXb2[:, i] = convolve_signal(xi)"
   ]
  },
  {
   "cell_type": "code",
   "execution_count": null,
   "metadata": {},
   "outputs": [],
   "source": [
    "plt.figure(figsize=(10,10))\n",
    "sns.heatmap(HXb2,cmap='mako_r', square=True);"
   ]
  },
  {
   "cell_type": "code",
   "execution_count": null,
   "metadata": {
    "scrolled": true
   },
   "outputs": [],
   "source": [
    "sns.heatmap(HXb2 cmap='mako_r', square=True);"
   ]
  },
  {
   "cell_type": "code",
   "execution_count": null,
   "metadata": {},
   "outputs": [],
   "source": [
    "regen = convolve_signal(deconvolve(test_ts[:,0], 0.0001, xb, HXb2))"
   ]
  },
  {
   "cell_type": "code",
   "execution_count": null,
   "metadata": {},
   "outputs": [],
   "source": [
    "plt.plot(range(test_ts.shape[0]), test_ts[:,0])\n",
    "plt.plot(range(test_ts.shape[0]), regen)\n",
    "\n",
    "# looks reasonable"
   ]
  },
  {
   "cell_type": "code",
   "execution_count": null,
   "metadata": {},
   "outputs": [],
   "source": [
    "# deconvolve to generate ppi\n",
    "deconvolved_signal = deconvolve(test_ts[:,0], 0.0001, xb, HXb2)"
   ]
  },
  {
   "cell_type": "code",
   "execution_count": null,
   "metadata": {},
   "outputs": [],
   "source": [
    "total_length_seconds = nib.load(preproc_file).shape[-1] * tr\n",
    "upsample_factor = 10\n",
    "\n",
    "frame_times = np.linspace(0, total_length_seconds, total_length_seconds * upsample_factor)\n",
    "\n",
    "decon_signal_upsample = resample(deconvolved_signal, total_length_seconds * upsample_factor)\n",
    "\n",
    "stim_length = events_df.query(\"trial_type == 'single'\")[\"duration\"].mean()\n",
    "onsets = events_df.query(\"trial_type == 'single'\")['onset']"
   ]
  },
  {
   "cell_type": "code",
   "execution_count": null,
   "metadata": {},
   "outputs": [],
   "source": [
    "decon_signal_upsample.shape"
   ]
  },
  {
   "cell_type": "code",
   "execution_count": null,
   "metadata": {},
   "outputs": [],
   "source": [
    "stim_length = int(events_df.query(\"trial_type == 'single'\")[\"duration\"].mean() * upsample_factor)\n",
    "onsets = events_df.query(\"trial_type == 'single'\")['onset'] * upsample_factor\n",
    "onsets = onsets.astype(int)"
   ]
  },
  {
   "cell_type": "code",
   "execution_count": null,
   "metadata": {},
   "outputs": [],
   "source": [
    "upsampled_events = np.zeros(len(frame_times))"
   ]
  },
  {
   "cell_type": "code",
   "execution_count": null,
   "metadata": {},
   "outputs": [],
   "source": [
    "upsampled_events[onsets.values] = 1\n",
    "plt.plot(upsampled_events)"
   ]
  },
  {
   "cell_type": "code",
   "execution_count": null,
   "metadata": {},
   "outputs": [],
   "source": [
    "upsampled_events_convolve = convolve(upsampled_events, np.ones(stim_length), mode='same')"
   ]
  },
  {
   "cell_type": "code",
   "execution_count": null,
   "metadata": {
    "scrolled": true
   },
   "outputs": [],
   "source": [
    "(upsampled_events_convolve == 1).sum()"
   ]
  },
  {
   "cell_type": "code",
   "execution_count": null,
   "metadata": {},
   "outputs": [],
   "source": [
    "(upsampled_events == 1).sum()"
   ]
  },
  {
   "cell_type": "code",
   "execution_count": null,
   "metadata": {},
   "outputs": [],
   "source": [
    "# demean deconvolved signal\n",
    "decon_signal_upsample_demean = decon_signal_upsample - decon_signal_upsample.mean()"
   ]
  },
  {
   "cell_type": "code",
   "execution_count": null,
   "metadata": {},
   "outputs": [],
   "source": [
    "upsampled_events_convolve_demean = upsampled_events_convolve - upsampled_events_convolve.mean()"
   ]
  },
  {
   "cell_type": "code",
   "execution_count": null,
   "metadata": {},
   "outputs": [],
   "source": [
    "upsampled_events_convolve_demean"
   ]
  },
  {
   "cell_type": "code",
   "execution_count": null,
   "metadata": {},
   "outputs": [],
   "source": [
    "# create ppi in neural signal\n",
    "ppi_neural = decon_signal_upsample_demean * upsampled_events_convolve_demean"
   ]
  },
  {
   "cell_type": "code",
   "execution_count": null,
   "metadata": {},
   "outputs": [],
   "source": [
    "plt.plot(ppi_neural)"
   ]
  },
  {
   "cell_type": "code",
   "execution_count": null,
   "metadata": {},
   "outputs": [],
   "source": [
    "# downsample data\n",
    "ppi_neural_downsample = resample(ppi_neural, test_ts.shape[0])"
   ]
  },
  {
   "cell_type": "code",
   "execution_count": null,
   "metadata": {},
   "outputs": [],
   "source": [
    "plt.plot(ppi_neural_downsample)"
   ]
  },
  {
   "cell_type": "code",
   "execution_count": null,
   "metadata": {},
   "outputs": [],
   "source": [
    "ppi_single = convolve_signal(ppi_neural_downsample)"
   ]
  },
  {
   "cell_type": "code",
   "execution_count": null,
   "metadata": {},
   "outputs": [],
   "source": [
    "plt.plot(ppi_single)"
   ]
  },
  {
   "cell_type": "code",
   "execution_count": null,
   "metadata": {},
   "outputs": [],
   "source": [
    "# afni deconvolve command: 3dTfitter -RHS Seed_ts${cc}${sd}.1D -FALTUNG GammaHR.1D\n",
    "# spm deconvolve"
   ]
  }
 ],
 "metadata": {
  "kernelspec": {
   "display_name": "aim1_valid",
   "language": "python",
   "name": "aim1_valid"
  },
  "language_info": {
   "codemirror_mode": {
    "name": "ipython",
    "version": 3
   },
   "file_extension": ".py",
   "mimetype": "text/x-python",
   "name": "python",
   "nbconvert_exporter": "python",
   "pygments_lexer": "ipython3",
   "version": "3.7.6"
  }
 },
 "nbformat": 4,
 "nbformat_minor": 4
}
