{
 "cells": [
  {
   "cell_type": "code",
   "execution_count": 1,
   "metadata": {},
   "outputs": [
    {
     "name": "stdout",
     "output_type": "stream",
     "text": [
      "200627-21:11:02,755 nipype.utils INFO:\n",
      "\t Running nipype version 1.4.2 (latest: 1.5.0)\n"
     ]
    },
    {
     "name": "stderr",
     "output_type": "stream",
     "text": [
      "/home/jdkent/.conda/envs/aim1_valid/lib/python3.7/importlib/_bootstrap.py:219: RuntimeWarning: numpy.ufunc size changed, may indicate binary incompatibility. Expected 216, got 192\n",
      "  return f(*args, **kwds)\n",
      "/home/jdkent/.conda/envs/aim1_valid/lib/python3.7/importlib/_bootstrap.py:219: ImportWarning: can't resolve package from __spec__ or __package__, falling back on __name__ and __path__\n",
      "  return f(*args, **kwds)\n",
      "/home/jdkent/.conda/envs/aim1_valid/lib/python3.7/site-packages/nistats/reporting/__init__.py:17: UserWarning: \n",
      "This call to matplotlib.use() has no effect because the backend has already\n",
      "been chosen; matplotlib.use() must be called *before* pylab, matplotlib.pyplot,\n",
      "or matplotlib.backends is imported for the first time.\n",
      "\n",
      "The backend was *originally* set to 'module://ipykernel.pylab.backend_inline' by the following code:\n",
      "  File \"/home/jdkent/.conda/envs/aim1_valid/lib/python3.7/runpy.py\", line 193, in _run_module_as_main\n",
      "    \"__main__\", mod_spec)\n",
      "  File \"/home/jdkent/.conda/envs/aim1_valid/lib/python3.7/runpy.py\", line 85, in _run_code\n",
      "    exec(code, run_globals)\n",
      "  File \"/home/jdkent/.conda/envs/aim1_valid/lib/python3.7/site-packages/ipykernel_launcher.py\", line 16, in <module>\n",
      "    app.launch_new_instance()\n",
      "  File \"/home/jdkent/.conda/envs/aim1_valid/lib/python3.7/site-packages/traitlets/config/application.py\", line 664, in launch_instance\n",
      "    app.start()\n",
      "  File \"/home/jdkent/.conda/envs/aim1_valid/lib/python3.7/site-packages/ipykernel/kernelapp.py\", line 583, in start\n",
      "    self.io_loop.start()\n",
      "  File \"/home/jdkent/.conda/envs/aim1_valid/lib/python3.7/site-packages/tornado/platform/asyncio.py\", line 149, in start\n",
      "    self.asyncio_loop.run_forever()\n",
      "  File \"/home/jdkent/.conda/envs/aim1_valid/lib/python3.7/asyncio/base_events.py\", line 538, in run_forever\n",
      "    self._run_once()\n",
      "  File \"/home/jdkent/.conda/envs/aim1_valid/lib/python3.7/asyncio/base_events.py\", line 1782, in _run_once\n",
      "    handle._run()\n",
      "  File \"/home/jdkent/.conda/envs/aim1_valid/lib/python3.7/asyncio/events.py\", line 88, in _run\n",
      "    self._context.run(self._callback, *self._args)\n",
      "  File \"/home/jdkent/.conda/envs/aim1_valid/lib/python3.7/site-packages/tornado/ioloop.py\", line 690, in <lambda>\n",
      "    lambda f: self._run_callback(functools.partial(callback, future))\n",
      "  File \"/home/jdkent/.conda/envs/aim1_valid/lib/python3.7/site-packages/tornado/ioloop.py\", line 743, in _run_callback\n",
      "    ret = callback()\n",
      "  File \"/home/jdkent/.conda/envs/aim1_valid/lib/python3.7/site-packages/tornado/gen.py\", line 787, in inner\n",
      "    self.run()\n",
      "  File \"/home/jdkent/.conda/envs/aim1_valid/lib/python3.7/site-packages/tornado/gen.py\", line 748, in run\n",
      "    yielded = self.gen.send(value)\n",
      "  File \"/home/jdkent/.conda/envs/aim1_valid/lib/python3.7/site-packages/ipykernel/kernelbase.py\", line 361, in process_one\n",
      "    yield gen.maybe_future(dispatch(*args))\n",
      "  File \"/home/jdkent/.conda/envs/aim1_valid/lib/python3.7/site-packages/tornado/gen.py\", line 209, in wrapper\n",
      "    yielded = next(result)\n",
      "  File \"/home/jdkent/.conda/envs/aim1_valid/lib/python3.7/site-packages/ipykernel/kernelbase.py\", line 268, in dispatch_shell\n",
      "    yield gen.maybe_future(handler(stream, idents, msg))\n",
      "  File \"/home/jdkent/.conda/envs/aim1_valid/lib/python3.7/site-packages/tornado/gen.py\", line 209, in wrapper\n",
      "    yielded = next(result)\n",
      "  File \"/home/jdkent/.conda/envs/aim1_valid/lib/python3.7/site-packages/ipykernel/kernelbase.py\", line 541, in execute_request\n",
      "    user_expressions, allow_stdin,\n",
      "  File \"/home/jdkent/.conda/envs/aim1_valid/lib/python3.7/site-packages/tornado/gen.py\", line 209, in wrapper\n",
      "    yielded = next(result)\n",
      "  File \"/home/jdkent/.conda/envs/aim1_valid/lib/python3.7/site-packages/ipykernel/ipkernel.py\", line 300, in do_execute\n",
      "    res = shell.run_cell(code, store_history=store_history, silent=silent)\n",
      "  File \"/home/jdkent/.conda/envs/aim1_valid/lib/python3.7/site-packages/ipykernel/zmqshell.py\", line 536, in run_cell\n",
      "    return super(ZMQInteractiveShell, self).run_cell(*args, **kwargs)\n",
      "  File \"/home/jdkent/.conda/envs/aim1_valid/lib/python3.7/site-packages/IPython/core/interactiveshell.py\", line 2858, in run_cell\n",
      "    raw_cell, store_history, silent, shell_futures)\n",
      "  File \"/home/jdkent/.conda/envs/aim1_valid/lib/python3.7/site-packages/IPython/core/interactiveshell.py\", line 2886, in _run_cell\n",
      "    return runner(coro)\n",
      "  File \"/home/jdkent/.conda/envs/aim1_valid/lib/python3.7/site-packages/IPython/core/async_helpers.py\", line 68, in _pseudo_sync_runner\n",
      "    coro.send(None)\n",
      "  File \"/home/jdkent/.conda/envs/aim1_valid/lib/python3.7/site-packages/IPython/core/interactiveshell.py\", line 3063, in run_cell_async\n",
      "    interactivity=interactivity, compiler=compiler, result=result)\n",
      "  File \"/home/jdkent/.conda/envs/aim1_valid/lib/python3.7/site-packages/IPython/core/interactiveshell.py\", line 3254, in run_ast_nodes\n",
      "    if (await self.run_code(code, result,  async_=asy)):\n",
      "  File \"/home/jdkent/.conda/envs/aim1_valid/lib/python3.7/site-packages/IPython/core/interactiveshell.py\", line 3331, in run_code\n",
      "    exec(code_obj, self.user_global_ns, self.user_ns)\n",
      "  File \"<ipython-input-1-6ad08bd83407>\", line 1, in <module>\n",
      "    get_ipython().run_line_magic('matplotlib', 'inline')\n",
      "  File \"/home/jdkent/.conda/envs/aim1_valid/lib/python3.7/site-packages/IPython/core/interactiveshell.py\", line 2317, in run_line_magic\n",
      "    result = fn(*args, **kwargs)\n",
      "  File \"<decorator-gen-108>\", line 2, in matplotlib\n",
      "  File \"/home/jdkent/.conda/envs/aim1_valid/lib/python3.7/site-packages/IPython/core/magic.py\", line 187, in <lambda>\n",
      "    call = lambda f, *a, **k: f(*a, **k)\n",
      "  File \"/home/jdkent/.conda/envs/aim1_valid/lib/python3.7/site-packages/IPython/core/magics/pylab.py\", line 99, in matplotlib\n",
      "    gui, backend = self.shell.enable_matplotlib(args.gui.lower() if isinstance(args.gui, str) else args.gui)\n",
      "  File \"/home/jdkent/.conda/envs/aim1_valid/lib/python3.7/site-packages/IPython/core/interactiveshell.py\", line 3419, in enable_matplotlib\n",
      "    pt.activate_matplotlib(backend)\n",
      "  File \"/home/jdkent/.conda/envs/aim1_valid/lib/python3.7/site-packages/IPython/core/pylabtools.py\", line 322, in activate_matplotlib\n",
      "    plt.switch_backend(backend)\n",
      "  File \"/home/jdkent/.conda/envs/aim1_valid/lib/python3.7/site-packages/matplotlib/pyplot.py\", line 231, in switch_backend\n",
      "    matplotlib.use(newbackend, warn=False, force=True)\n",
      "  File \"/home/jdkent/.conda/envs/aim1_valid/lib/python3.7/site-packages/matplotlib/__init__.py\", line 1425, in use\n",
      "    reload(sys.modules['matplotlib.backends'])\n",
      "  File \"/home/jdkent/.conda/envs/aim1_valid/lib/python3.7/importlib/__init__.py\", line 169, in reload\n",
      "    _bootstrap._exec(spec, module)\n",
      "  File \"/home/jdkent/.conda/envs/aim1_valid/lib/python3.7/site-packages/matplotlib/backends/__init__.py\", line 17, in <module>\n",
      "    line for line in traceback.format_stack()\n",
      "\n",
      "\n",
      "  matplotlib.use('Agg')\n",
      "/home/jdkent/.conda/envs/aim1_valid/lib/python3.7/importlib/_bootstrap.py:219: RuntimeWarning: numpy.ufunc size changed, may indicate binary incompatibility. Expected 192 from C header, got 216 from PyObject\n",
      "  return f(*args, **kwds)\n",
      "/home/jdkent/.conda/envs/aim1_valid/lib/python3.7/site-packages/nilearn/plotting/__init__.py:20: UserWarning: \n",
      "This call to matplotlib.use() has no effect because the backend has already\n",
      "been chosen; matplotlib.use() must be called *before* pylab, matplotlib.pyplot,\n",
      "or matplotlib.backends is imported for the first time.\n",
      "\n",
      "The backend was *originally* set to 'module://ipykernel.pylab.backend_inline' by the following code:\n",
      "  File \"/home/jdkent/.conda/envs/aim1_valid/lib/python3.7/runpy.py\", line 193, in _run_module_as_main\n",
      "    \"__main__\", mod_spec)\n",
      "  File \"/home/jdkent/.conda/envs/aim1_valid/lib/python3.7/runpy.py\", line 85, in _run_code\n",
      "    exec(code, run_globals)\n",
      "  File \"/home/jdkent/.conda/envs/aim1_valid/lib/python3.7/site-packages/ipykernel_launcher.py\", line 16, in <module>\n",
      "    app.launch_new_instance()\n",
      "  File \"/home/jdkent/.conda/envs/aim1_valid/lib/python3.7/site-packages/traitlets/config/application.py\", line 664, in launch_instance\n",
      "    app.start()\n",
      "  File \"/home/jdkent/.conda/envs/aim1_valid/lib/python3.7/site-packages/ipykernel/kernelapp.py\", line 583, in start\n",
      "    self.io_loop.start()\n",
      "  File \"/home/jdkent/.conda/envs/aim1_valid/lib/python3.7/site-packages/tornado/platform/asyncio.py\", line 149, in start\n",
      "    self.asyncio_loop.run_forever()\n",
      "  File \"/home/jdkent/.conda/envs/aim1_valid/lib/python3.7/asyncio/base_events.py\", line 538, in run_forever\n",
      "    self._run_once()\n",
      "  File \"/home/jdkent/.conda/envs/aim1_valid/lib/python3.7/asyncio/base_events.py\", line 1782, in _run_once\n",
      "    handle._run()\n",
      "  File \"/home/jdkent/.conda/envs/aim1_valid/lib/python3.7/asyncio/events.py\", line 88, in _run\n",
      "    self._context.run(self._callback, *self._args)\n",
      "  File \"/home/jdkent/.conda/envs/aim1_valid/lib/python3.7/site-packages/tornado/ioloop.py\", line 690, in <lambda>\n",
      "    lambda f: self._run_callback(functools.partial(callback, future))\n",
      "  File \"/home/jdkent/.conda/envs/aim1_valid/lib/python3.7/site-packages/tornado/ioloop.py\", line 743, in _run_callback\n",
      "    ret = callback()\n",
      "  File \"/home/jdkent/.conda/envs/aim1_valid/lib/python3.7/site-packages/tornado/gen.py\", line 787, in inner\n",
      "    self.run()\n",
      "  File \"/home/jdkent/.conda/envs/aim1_valid/lib/python3.7/site-packages/tornado/gen.py\", line 748, in run\n",
      "    yielded = self.gen.send(value)\n",
      "  File \"/home/jdkent/.conda/envs/aim1_valid/lib/python3.7/site-packages/ipykernel/kernelbase.py\", line 361, in process_one\n",
      "    yield gen.maybe_future(dispatch(*args))\n",
      "  File \"/home/jdkent/.conda/envs/aim1_valid/lib/python3.7/site-packages/tornado/gen.py\", line 209, in wrapper\n",
      "    yielded = next(result)\n",
      "  File \"/home/jdkent/.conda/envs/aim1_valid/lib/python3.7/site-packages/ipykernel/kernelbase.py\", line 268, in dispatch_shell\n",
      "    yield gen.maybe_future(handler(stream, idents, msg))\n",
      "  File \"/home/jdkent/.conda/envs/aim1_valid/lib/python3.7/site-packages/tornado/gen.py\", line 209, in wrapper\n",
      "    yielded = next(result)\n",
      "  File \"/home/jdkent/.conda/envs/aim1_valid/lib/python3.7/site-packages/ipykernel/kernelbase.py\", line 541, in execute_request\n",
      "    user_expressions, allow_stdin,\n",
      "  File \"/home/jdkent/.conda/envs/aim1_valid/lib/python3.7/site-packages/tornado/gen.py\", line 209, in wrapper\n",
      "    yielded = next(result)\n",
      "  File \"/home/jdkent/.conda/envs/aim1_valid/lib/python3.7/site-packages/ipykernel/ipkernel.py\", line 300, in do_execute\n",
      "    res = shell.run_cell(code, store_history=store_history, silent=silent)\n",
      "  File \"/home/jdkent/.conda/envs/aim1_valid/lib/python3.7/site-packages/ipykernel/zmqshell.py\", line 536, in run_cell\n",
      "    return super(ZMQInteractiveShell, self).run_cell(*args, **kwargs)\n",
      "  File \"/home/jdkent/.conda/envs/aim1_valid/lib/python3.7/site-packages/IPython/core/interactiveshell.py\", line 2858, in run_cell\n",
      "    raw_cell, store_history, silent, shell_futures)\n",
      "  File \"/home/jdkent/.conda/envs/aim1_valid/lib/python3.7/site-packages/IPython/core/interactiveshell.py\", line 2886, in _run_cell\n",
      "    return runner(coro)\n",
      "  File \"/home/jdkent/.conda/envs/aim1_valid/lib/python3.7/site-packages/IPython/core/async_helpers.py\", line 68, in _pseudo_sync_runner\n",
      "    coro.send(None)\n",
      "  File \"/home/jdkent/.conda/envs/aim1_valid/lib/python3.7/site-packages/IPython/core/interactiveshell.py\", line 3063, in run_cell_async\n",
      "    interactivity=interactivity, compiler=compiler, result=result)\n",
      "  File \"/home/jdkent/.conda/envs/aim1_valid/lib/python3.7/site-packages/IPython/core/interactiveshell.py\", line 3254, in run_ast_nodes\n",
      "    if (await self.run_code(code, result,  async_=asy)):\n",
      "  File \"/home/jdkent/.conda/envs/aim1_valid/lib/python3.7/site-packages/IPython/core/interactiveshell.py\", line 3331, in run_code\n",
      "    exec(code_obj, self.user_global_ns, self.user_ns)\n",
      "  File \"<ipython-input-1-6ad08bd83407>\", line 1, in <module>\n",
      "    get_ipython().run_line_magic('matplotlib', 'inline')\n",
      "  File \"/home/jdkent/.conda/envs/aim1_valid/lib/python3.7/site-packages/IPython/core/interactiveshell.py\", line 2317, in run_line_magic\n",
      "    result = fn(*args, **kwargs)\n",
      "  File \"<decorator-gen-108>\", line 2, in matplotlib\n",
      "  File \"/home/jdkent/.conda/envs/aim1_valid/lib/python3.7/site-packages/IPython/core/magic.py\", line 187, in <lambda>\n",
      "    call = lambda f, *a, **k: f(*a, **k)\n",
      "  File \"/home/jdkent/.conda/envs/aim1_valid/lib/python3.7/site-packages/IPython/core/magics/pylab.py\", line 99, in matplotlib\n",
      "    gui, backend = self.shell.enable_matplotlib(args.gui.lower() if isinstance(args.gui, str) else args.gui)\n",
      "  File \"/home/jdkent/.conda/envs/aim1_valid/lib/python3.7/site-packages/IPython/core/interactiveshell.py\", line 3419, in enable_matplotlib\n",
      "    pt.activate_matplotlib(backend)\n",
      "  File \"/home/jdkent/.conda/envs/aim1_valid/lib/python3.7/site-packages/IPython/core/pylabtools.py\", line 322, in activate_matplotlib\n",
      "    plt.switch_backend(backend)\n",
      "  File \"/home/jdkent/.conda/envs/aim1_valid/lib/python3.7/site-packages/matplotlib/pyplot.py\", line 231, in switch_backend\n",
      "    matplotlib.use(newbackend, warn=False, force=True)\n",
      "  File \"/home/jdkent/.conda/envs/aim1_valid/lib/python3.7/site-packages/matplotlib/__init__.py\", line 1425, in use\n",
      "    reload(sys.modules['matplotlib.backends'])\n",
      "  File \"/home/jdkent/.conda/envs/aim1_valid/lib/python3.7/importlib/__init__.py\", line 169, in reload\n",
      "    _bootstrap._exec(spec, module)\n",
      "  File \"/home/jdkent/.conda/envs/aim1_valid/lib/python3.7/site-packages/matplotlib/backends/__init__.py\", line 17, in <module>\n",
      "    line for line in traceback.format_stack()\n",
      "\n",
      "\n",
      "  matplotlib.use('Agg')\n",
      "/home/jdkent/.conda/envs/aim1_valid/lib/python3.7/importlib/_bootstrap.py:219: RuntimeWarning: numpy.ufunc size changed, may indicate binary incompatibility. Expected 216, got 192\n",
      "  return f(*args, **kwds)\n",
      "/home/jdkent/.conda/envs/aim1_valid/lib/python3.7/importlib/_bootstrap.py:219: ImportWarning: can't resolve package from __spec__ or __package__, falling back on __name__ and __path__\n",
      "  return f(*args, **kwds)\n",
      "/home/jdkent/.conda/envs/aim1_valid/lib/python3.7/site-packages/sklearn/feature_extraction/text.py:17: DeprecationWarning: Using or importing the ABCs from 'collections' instead of from 'collections.abc' is deprecated since Python 3.3,and in 3.9 it will stop working\n",
      "  from collections import Mapping, defaultdict\n",
      "/home/jdkent/.conda/envs/aim1_valid/lib/python3.7/site-packages/nilearn/datasets/neurovault.py:16: DeprecationWarning: Using or importing the ABCs from 'collections' instead of from 'collections.abc' is deprecated since Python 3.3,and in 3.9 it will stop working\n",
      "  from collections import Container\n",
      "/home/jdkent/.conda/envs/aim1_valid/lib/python3.7/importlib/_bootstrap.py:219: RuntimeWarning: numpy.dtype size changed, may indicate binary incompatibility. Expected 96, got 88\n",
      "  return f(*args, **kwds)\n",
      "/home/jdkent/.conda/envs/aim1_valid/lib/python3.7/importlib/_bootstrap.py:219: RuntimeWarning: numpy.ufunc size changed, may indicate binary incompatibility. Expected 216, got 192\n",
      "  return f(*args, **kwds)\n",
      "/home/jdkent/.conda/envs/aim1_valid/lib/python3.7/importlib/_bootstrap.py:219: ImportWarning: can't resolve package from __spec__ or __package__, falling back on __name__ and __path__\n",
      "  return f(*args, **kwds)\n",
      "/home/jdkent/.conda/envs/aim1_valid/lib/python3.7/importlib/_bootstrap.py:219: RuntimeWarning: numpy.ufunc size changed, may indicate binary incompatibility. Expected 192 from C header, got 216 from PyObject\n",
      "  return f(*args, **kwds)\n"
     ]
    }
   ],
   "source": [
    "%matplotlib inline\n",
    "import os\n",
    "from subprocess import call\n",
    "from io import BytesIO\n",
    "\n",
    "from nibetaseries.interfaces.nistats import LSABetaSeries, LSSBetaSeries\n",
    "from nistats.reporting import plot_design_matrix\n",
    "from nistats import design_matrix as dm\n",
    "from nistats.hemodynamic_models import glover_hrf\n",
    "import matplotlib.pyplot as plt\n",
    "import matplotlib.patches as patches\n",
    "import matplotlib.gridspec as gridspec\n",
    "from matplotlib.lines import Line2D\n",
    "from nilearn.input_data import NiftiLabelsMasker\n",
    "import nibabel as nib\n",
    "import seaborn as sns\n",
    "import pandas as pd\n",
    "import numpy as np\n",
    "from scipy.stats import zscore\n",
    "from nistats.design_matrix import make_first_level_design_matrix\n",
    "from svglib.svglib import svg2rlg\n",
    "from reportlab.graphics import renderPS\n",
    "\n",
    "EXAMPLE_BOLD = '../fmriprep/sub-GE120001/ses-pre/func/sub-GE120001_ses-pre_task-taskswitch_space-MNI152NLin2009cAsym_desc-preproc_bold.nii.gz'\n",
    "EXAMPLE_BOLD_MASK = '../fmriprep/sub-GE120001/ses-pre/func/sub-GE120001_ses-pre_task-taskswitch_space-MNI152NLin2009cAsym_desc-brain_mask.nii.gz'\n",
    "ACTIVATION_ATLAS = '../data/overall_response_atlas.nii.gz'\n"
   ]
  },
  {
   "cell_type": "code",
   "execution_count": 2,
   "metadata": {},
   "outputs": [],
   "source": [
    "# convience function to save figures as eps (with transparency)\n",
    "def save_eps(fig, fname):\n",
    "    fig.savefig(fname + '.pdf', bbox_inches='tight')\n",
    "    call([\"pdf2ps\", fname + '.pdf', fname + '.eps'])\n",
    "    os.remove(fname + '.pdf')\n"
   ]
  },
  {
   "cell_type": "code",
   "execution_count": 3,
   "metadata": {},
   "outputs": [],
   "source": [
    "two_voxel_img = nib.load(os.path.join(os.getcwd(), 'data/bold.nii.gz'))\n",
    "events_df = pd.read_csv('./data/events19.tsv', sep='\\t')"
   ]
  },
  {
   "cell_type": "code",
   "execution_count": 4,
   "metadata": {},
   "outputs": [],
   "source": [
    "two_voxel_data = two_voxel_img.get_fdata()\n",
    "two_voxel_mask = nib.Nifti1Image(np.array([[[1, 1]]]), two_voxel_img.affine)\n",
    "metadata = {\"RepetitionTime\": 2}"
   ]
  },
  {
   "cell_type": "code",
   "execution_count": 5,
   "metadata": {
    "scrolled": false
   },
   "outputs": [
    {
     "data": {
      "text/plain": [
       "[<matplotlib.lines.Line2D at 0x7fef639d0fd0>,\n",
       " <matplotlib.lines.Line2D at 0x7fef639db1d0>]"
      ]
     },
     "execution_count": 5,
     "metadata": {},
     "output_type": "execute_result"
    },
    {
     "data": {
      "image/png": "[encoded data removed]",
      "text/plain": [
       "<Figure size 432x288 with 1 Axes>"
      ]
     },
     "metadata": {
      "needs_background": "light"
     },
     "output_type": "display_data"
    }
   ],
   "source": [
    "plt.plot(two_voxel_data[0, 0, :, :].T)"
   ]
  },
  {
   "cell_type": "code",
   "execution_count": 6,
   "metadata": {},
   "outputs": [
    {
     "data": {
      "image/png": "[encoded data removed]",
      "text/plain": [
       "<Figure size 374.4x288 with 1 Axes>"
      ]
     },
     "metadata": {
      "needs_background": "light"
     },
     "output_type": "display_data"
    }
   ],
   "source": [
    "fig, ax = plt.subplots(figsize=(5.2, 4))\n",
    "model = glover_hrf(tr=2, oversampling=1)\n",
    "x = np.arange(0, len(model))\n",
    "ax.plot(x, model, linewidth=5);\n",
    "ax.set_yticklabels(\"\");\n",
    "ax.set_ylabel(\"BOLD Response (Arbitrary Units)\", fontdict={\"size\": \"large\", \"weight\": \"heavy\"});\n",
    "ax.set_xlabel(\"Time (in seconds)\", fontdict={\"size\": \"large\", \"weight\": \"heavy\"});\n",
    "save_eps(fig, \"./outputs/introduction-hrf\")\n",
    "save_eps(fig, \"./outputs/introduction-hrf_separate\")"
   ]
  },
  {
   "cell_type": "code",
   "execution_count": 7,
   "metadata": {},
   "outputs": [
    {
     "name": "stderr",
     "output_type": "stream",
     "text": [
      "/home/jdkent/.conda/envs/aim1_valid/lib/python3.7/site-packages/nibetaseries/interfaces/nistats.py:78: DeprecationWarning: The parameter \"mask\" will be removed in next release of Nistats. Please use the parameter \"mask_img\" instead.\n",
      "  minimize_memory=False,\n",
      "Computing run 1 out of 1 runs (go take a coffee, a big one)\n",
      "\n",
      "Computation of 1 runs done in 0 seconds\n",
      "\n",
      "/home/jdkent/.conda/envs/aim1_valid/lib/python3.7/site-packages/nistats/regression.py:339: FutureWarning: 'resid' from RegressionResults has been deprecated and will be removed. Please use 'residuals' instead.\n",
      "  FutureWarning,\n",
      "Computing run 1 out of 1 runs (go take a coffee, a big one)\n",
      "\n",
      "Computation of 1 runs done in 0 seconds\n",
      "\n",
      "Computing run 1 out of 1 runs (go take a coffee, a big one)\n",
      "\n",
      "Computation of 1 runs done in 0 seconds\n",
      "\n",
      "Computing run 1 out of 1 runs (go take a coffee, a big one)\n",
      "\n",
      "Computation of 1 runs done in 0 seconds\n",
      "\n",
      "Computing run 1 out of 1 runs (go take a coffee, a big one)\n",
      "\n",
      "Computation of 1 runs done in 0 seconds\n",
      "\n",
      "Computing run 1 out of 1 runs (go take a coffee, a big one)\n",
      "\n",
      "Computation of 1 runs done in 0 seconds\n",
      "\n",
      "Computing run 1 out of 1 runs (go take a coffee, a big one)\n",
      "\n",
      "Computation of 1 runs done in 0 seconds\n",
      "\n",
      "Computing run 1 out of 1 runs (go take a coffee, a big one)\n",
      "\n",
      "Computation of 1 runs done in 0 seconds\n",
      "\n",
      "Computing run 1 out of 1 runs (go take a coffee, a big one)\n",
      "\n",
      "Computation of 1 runs done in 0 seconds\n",
      "\n",
      "Computing run 1 out of 1 runs (go take a coffee, a big one)\n",
      "\n",
      "Computation of 1 runs done in 0 seconds\n",
      "\n",
      "Computing run 1 out of 1 runs (go take a coffee, a big one)\n",
      "\n",
      "Computation of 1 runs done in 0 seconds\n",
      "\n",
      "Computing run 1 out of 1 runs (go take a coffee, a big one)\n",
      "\n",
      "Computation of 1 runs done in 0 seconds\n",
      "\n",
      "Computing run 1 out of 1 runs (go take a coffee, a big one)\n",
      "\n",
      "Computation of 1 runs done in 0 seconds\n",
      "\n",
      "Computing run 1 out of 1 runs (go take a coffee, a big one)\n",
      "\n",
      "Computation of 1 runs done in 0 seconds\n",
      "\n",
      "Computing run 1 out of 1 runs (go take a coffee, a big one)\n",
      "\n",
      "Computation of 1 runs done in 0 seconds\n",
      "\n",
      "Computing run 1 out of 1 runs (go take a coffee, a big one)\n",
      "\n",
      "Computation of 1 runs done in 0 seconds\n",
      "\n",
      "Computing run 1 out of 1 runs (go take a coffee, a big one)\n",
      "\n",
      "Computation of 1 runs done in 0 seconds\n",
      "\n",
      "Computing run 1 out of 1 runs (go take a coffee, a big one)\n",
      "\n",
      "Computation of 1 runs done in 0 seconds\n",
      "\n",
      "Computing run 1 out of 1 runs (go take a coffee, a big one)\n",
      "\n",
      "Computation of 1 runs done in 0 seconds\n",
      "\n",
      "Computing run 1 out of 1 runs (go take a coffee, a big one)\n",
      "\n",
      "Computation of 1 runs done in 0 seconds\n",
      "\n",
      "Computing run 1 out of 1 runs (go take a coffee, a big one)\n",
      "\n",
      "Computation of 1 runs done in 0 seconds\n",
      "\n",
      "Computing run 1 out of 1 runs (go take a coffee, a big one)\n",
      "\n",
      "Computation of 1 runs done in 0 seconds\n",
      "\n",
      "Computing run 1 out of 1 runs (go take a coffee, a big one)\n",
      "\n",
      "Computation of 1 runs done in 0 seconds\n",
      "\n",
      "Computing run 1 out of 1 runs (go take a coffee, a big one)\n",
      "\n",
      "Computation of 1 runs done in 0 seconds\n",
      "\n",
      "Computing run 1 out of 1 runs (go take a coffee, a big one)\n",
      "\n",
      "Computation of 1 runs done in 0 seconds\n",
      "\n",
      "Computing run 1 out of 1 runs (go take a coffee, a big one)\n",
      "\n",
      "Computation of 1 runs done in 0 seconds\n",
      "\n",
      "Computing run 1 out of 1 runs (go take a coffee, a big one)\n",
      "\n",
      "Computation of 1 runs done in 0 seconds\n",
      "\n",
      "Computing run 1 out of 1 runs (go take a coffee, a big one)\n",
      "\n",
      "Computation of 1 runs done in 0 seconds\n",
      "\n",
      "Computing run 1 out of 1 runs (go take a coffee, a big one)\n",
      "\n",
      "Computation of 1 runs done in 0 seconds\n",
      "\n",
      "Computing run 1 out of 1 runs (go take a coffee, a big one)\n",
      "\n",
      "Computation of 1 runs done in 0 seconds\n",
      "\n",
      "Computing run 1 out of 1 runs (go take a coffee, a big one)\n",
      "\n",
      "Computation of 1 runs done in 0 seconds\n",
      "\n",
      "Computing run 1 out of 1 runs (go take a coffee, a big one)\n",
      "\n",
      "Computation of 1 runs done in 0 seconds\n",
      "\n",
      "Computing run 1 out of 1 runs (go take a coffee, a big one)\n",
      "\n",
      "Computation of 1 runs done in 0 seconds\n",
      "\n",
      "Computing run 1 out of 1 runs (go take a coffee, a big one)\n",
      "\n",
      "Computation of 1 runs done in 0 seconds\n",
      "\n",
      "Computing run 1 out of 1 runs (go take a coffee, a big one)\n",
      "\n",
      "Computation of 1 runs done in 0 seconds\n",
      "\n",
      "Computing run 1 out of 1 runs (go take a coffee, a big one)\n",
      "\n",
      "Computation of 1 runs done in 0 seconds\n",
      "\n",
      "Computing run 1 out of 1 runs (go take a coffee, a big one)\n",
      "\n",
      "Computation of 1 runs done in 0 seconds\n",
      "\n",
      "Computing run 1 out of 1 runs (go take a coffee, a big one)\n",
      "\n",
      "Computation of 1 runs done in 0 seconds\n",
      "\n",
      "Computing run 1 out of 1 runs (go take a coffee, a big one)\n",
      "\n",
      "Computation of 1 runs done in 0 seconds\n",
      "\n",
      "Computing run 1 out of 1 runs (go take a coffee, a big one)\n",
      "\n",
      "Computation of 1 runs done in 0 seconds\n",
      "\n",
      "Computing run 1 out of 1 runs (go take a coffee, a big one)\n",
      "\n",
      "Computation of 1 runs done in 0 seconds\n",
      "\n",
      "Computing run 1 out of 1 runs (go take a coffee, a big one)\n",
      "\n",
      "Computation of 1 runs done in 0 seconds\n",
      "\n",
      "Computing run 1 out of 1 runs (go take a coffee, a big one)\n",
      "\n",
      "Computation of 1 runs done in 0 seconds\n",
      "\n",
      "Computing run 1 out of 1 runs (go take a coffee, a big one)\n",
      "\n",
      "Computation of 1 runs done in 0 seconds\n",
      "\n",
      "Computing run 1 out of 1 runs (go take a coffee, a big one)\n",
      "\n",
      "Computation of 1 runs done in 0 seconds\n",
      "\n",
      "Computing run 1 out of 1 runs (go take a coffee, a big one)\n",
      "\n",
      "Computation of 1 runs done in 0 seconds\n",
      "\n",
      "Computing run 1 out of 1 runs (go take a coffee, a big one)\n",
      "\n",
      "Computation of 1 runs done in 0 seconds\n",
      "\n",
      "Computing run 1 out of 1 runs (go take a coffee, a big one)\n",
      "\n",
      "Computation of 1 runs done in 0 seconds\n",
      "\n",
      "Computing run 1 out of 1 runs (go take a coffee, a big one)\n",
      "\n",
      "Computation of 1 runs done in 0 seconds\n",
      "\n",
      "Computing run 1 out of 1 runs (go take a coffee, a big one)\n",
      "\n",
      "Computation of 1 runs done in 0 seconds\n",
      "\n",
      "Computing run 1 out of 1 runs (go take a coffee, a big one)\n",
      "\n",
      "Computation of 1 runs done in 0 seconds\n",
      "\n",
      "Computing run 1 out of 1 runs (go take a coffee, a big one)\n",
      "\n",
      "Computation of 1 runs done in 0 seconds\n",
      "\n",
      "Computing run 1 out of 1 runs (go take a coffee, a big one)\n",
      "\n",
      "Computation of 1 runs done in 0 seconds\n",
      "\n",
      "Computing run 1 out of 1 runs (go take a coffee, a big one)\n",
      "\n",
      "Computation of 1 runs done in 0 seconds\n",
      "\n",
      "Computing run 1 out of 1 runs (go take a coffee, a big one)\n",
      "\n",
      "Computation of 1 runs done in 0 seconds\n",
      "\n",
      "Computing run 1 out of 1 runs (go take a coffee, a big one)\n",
      "\n",
      "Computation of 1 runs done in 0 seconds\n",
      "\n",
      "Computing run 1 out of 1 runs (go take a coffee, a big one)\n",
      "\n",
      "Computation of 1 runs done in 0 seconds\n",
      "\n",
      "Computing run 1 out of 1 runs (go take a coffee, a big one)\n",
      "\n",
      "Computation of 1 runs done in 0 seconds\n",
      "\n",
      "Computing run 1 out of 1 runs (go take a coffee, a big one)\n",
      "\n",
      "Computation of 1 runs done in 0 seconds\n",
      "\n",
      "Computing run 1 out of 1 runs (go take a coffee, a big one)\n",
      "\n",
      "Computation of 1 runs done in 0 seconds\n",
      "\n",
      "Computing run 1 out of 1 runs (go take a coffee, a big one)\n",
      "\n",
      "Computation of 1 runs done in 0 seconds\n",
      "\n",
      "Computing run 1 out of 1 runs (go take a coffee, a big one)\n",
      "\n",
      "Computation of 1 runs done in 0 seconds\n",
      "\n",
      "Computing run 1 out of 1 runs (go take a coffee, a big one)\n",
      "\n",
      "Computation of 1 runs done in 0 seconds\n",
      "\n",
      "Computing run 1 out of 1 runs (go take a coffee, a big one)\n",
      "\n",
      "Computation of 1 runs done in 0 seconds\n",
      "\n",
      "Computing run 1 out of 1 runs (go take a coffee, a big one)\n",
      "\n",
      "Computation of 1 runs done in 0 seconds\n",
      "\n",
      "Computing run 1 out of 1 runs (go take a coffee, a big one)\n",
      "\n",
      "Computation of 1 runs done in 0 seconds\n",
      "\n",
      "Computing run 1 out of 1 runs (go take a coffee, a big one)\n",
      "\n",
      "Computation of 1 runs done in 0 seconds\n",
      "\n",
      "Computing run 1 out of 1 runs (go take a coffee, a big one)\n",
      "\n",
      "Computation of 1 runs done in 0 seconds\n",
      "\n",
      "Computing run 1 out of 1 runs (go take a coffee, a big one)\n",
      "\n",
      "Computation of 1 runs done in 0 seconds\n",
      "\n",
      "Computing run 1 out of 1 runs (go take a coffee, a big one)\n",
      "\n",
      "Computation of 1 runs done in 0 seconds\n",
      "\n",
      "Computing run 1 out of 1 runs (go take a coffee, a big one)\n",
      "\n",
      "Computation of 1 runs done in 0 seconds\n",
      "\n",
      "Computing run 1 out of 1 runs (go take a coffee, a big one)\n",
      "\n",
      "Computation of 1 runs done in 0 seconds\n",
      "\n",
      "Computing run 1 out of 1 runs (go take a coffee, a big one)\n",
      "\n",
      "Computation of 1 runs done in 0 seconds\n",
      "\n",
      "Computing run 1 out of 1 runs (go take a coffee, a big one)\n",
      "\n",
      "Computation of 1 runs done in 0 seconds\n",
      "\n",
      "Computing run 1 out of 1 runs (go take a coffee, a big one)\n",
      "\n",
      "Computation of 1 runs done in 0 seconds\n",
      "\n",
      "Computing run 1 out of 1 runs (go take a coffee, a big one)\n",
      "\n",
      "Computation of 1 runs done in 0 seconds\n",
      "\n",
      "Computing run 1 out of 1 runs (go take a coffee, a big one)\n"
     ]
    },
    {
     "name": "stderr",
     "output_type": "stream",
     "text": [
      "\n",
      "Computation of 1 runs done in 0 seconds\n",
      "\n",
      "Computing run 1 out of 1 runs (go take a coffee, a big one)\n",
      "\n",
      "Computation of 1 runs done in 0 seconds\n",
      "\n",
      "Computing run 1 out of 1 runs (go take a coffee, a big one)\n",
      "\n",
      "Computation of 1 runs done in 0 seconds\n",
      "\n",
      "Computing run 1 out of 1 runs (go take a coffee, a big one)\n",
      "\n",
      "Computation of 1 runs done in 0 seconds\n",
      "\n",
      "Computing run 1 out of 1 runs (go take a coffee, a big one)\n",
      "\n",
      "Computation of 1 runs done in 0 seconds\n",
      "\n",
      "Computing run 1 out of 1 runs (go take a coffee, a big one)\n",
      "\n",
      "Computation of 1 runs done in 0 seconds\n",
      "\n",
      "Computing run 1 out of 1 runs (go take a coffee, a big one)\n",
      "\n",
      "Computation of 1 runs done in 0 seconds\n",
      "\n",
      "Computing run 1 out of 1 runs (go take a coffee, a big one)\n",
      "\n",
      "Computation of 1 runs done in 0 seconds\n",
      "\n",
      "Computing run 1 out of 1 runs (go take a coffee, a big one)\n",
      "\n",
      "Computation of 1 runs done in 0 seconds\n",
      "\n",
      "Computing run 1 out of 1 runs (go take a coffee, a big one)\n",
      "\n",
      "Computation of 1 runs done in 0 seconds\n",
      "\n",
      "Computing run 1 out of 1 runs (go take a coffee, a big one)\n",
      "\n",
      "Computation of 1 runs done in 0 seconds\n",
      "\n",
      "Computing run 1 out of 1 runs (go take a coffee, a big one)\n",
      "\n",
      "Computation of 1 runs done in 0 seconds\n",
      "\n",
      "Computing run 1 out of 1 runs (go take a coffee, a big one)\n",
      "\n",
      "Computation of 1 runs done in 0 seconds\n",
      "\n",
      "Computing run 1 out of 1 runs (go take a coffee, a big one)\n",
      "\n",
      "Computation of 1 runs done in 0 seconds\n",
      "\n"
     ]
    }
   ],
   "source": [
    "os.chdir('./outputs/lss')\n",
    "lss_model = LSSBetaSeries(\n",
    "    bold_file=two_voxel_img, mask_file=two_voxel_mask,\n",
    "    bold_metadata=metadata, events_file='../../data/events19.tsv',\n",
    "    hrf_model='glover',\n",
    "    smoothing_kernel=None,\n",
    "    high_pass=0.0078125)\n",
    "lss_res = lss_model.run()\n",
    "os.chdir('../..')"
   ]
  },
  {
   "cell_type": "code",
   "execution_count": 8,
   "metadata": {},
   "outputs": [],
   "source": [
    "# pull out beta series\n",
    "c0_betas_lss1 = nib.load('./outputs/lss/desc-c0_betaseries.nii.gz').get_fdata()[:,:,0,:].squeeze() / 1000\n",
    "c1_betas_lss1 = nib.load('./outputs/lss/desc-c1_betaseries.nii.gz').get_fdata()[:,:,0,:].squeeze() / 1000\n",
    "c0_betas_lss2 = nib.load('./outputs/lss/desc-c0_betaseries.nii.gz').get_fdata()[:,:,1,:].squeeze() / 1000\n",
    "c1_betas_lss2 = nib.load('./outputs/lss/desc-c1_betaseries.nii.gz').get_fdata()[:,:,1,:].squeeze() / 1000"
   ]
  },
  {
   "cell_type": "code",
   "execution_count": 9,
   "metadata": {},
   "outputs": [
    {
     "data": {
      "text/plain": [
       "0.25"
      ]
     },
     "execution_count": 9,
     "metadata": {},
     "output_type": "execute_result"
    }
   ],
   "source": [
    "round(np.corrcoef(c0_betas_lss1, c0_betas_lss2)[0,1], 2)"
   ]
  },
  {
   "cell_type": "code",
   "execution_count": 10,
   "metadata": {},
   "outputs": [],
   "source": [
    "lss_c0_1 = lss_res.outputs.design_matrices[0].loc[:,\"c0\":\"other\"].rename({\"c0\": \"Target Event\", \"other\": \"Condition 1\", \"c1\": \"Condition 0\"}, axis=1)\n",
    "lss_c0_2 = lss_res.outputs.design_matrices[7].loc[:,\"c0\":\"other\"].rename({\"c0\": \"Target Event\", \"other\": \"Condition 1\", \"c1\": \"Condition 0\"}, axis=1)\n",
    "lss_c0_3 = lss_res.outputs.design_matrices[42].loc[:,\"c0\":\"other\"].rename({\"c0\": \"Target Event\", \"other\": \"Condition 1\", \"c1\": \"Condition 0\"}, axis=1)"
   ]
  },
  {
   "cell_type": "code",
   "execution_count": 11,
   "metadata": {},
   "outputs": [
    {
     "data": {
      "text/html": [
       "<div>\n",
       "<style scoped>\n",
       "    .dataframe tbody tr th:only-of-type {\n",
       "        vertical-align: middle;\n",
       "    }\n",
       "\n",
       "    .dataframe tbody tr th {\n",
       "        vertical-align: top;\n",
       "    }\n",
       "\n",
       "    .dataframe thead th {\n",
       "        text-align: right;\n",
       "    }\n",
       "</style>\n",
       "<table border=\"1\" class=\"dataframe\">\n",
       "  <thead>\n",
       "    <tr style=\"text-align: right;\">\n",
       "      <th></th>\n",
       "      <th>c0</th>\n",
       "      <th>c1</th>\n",
       "      <th>other</th>\n",
       "      <th>drift_1</th>\n",
       "      <th>drift_2</th>\n",
       "      <th>drift_3</th>\n",
       "      <th>drift_4</th>\n",
       "      <th>drift_5</th>\n",
       "      <th>constant</th>\n",
       "    </tr>\n",
       "  </thead>\n",
       "  <tbody>\n",
       "    <tr>\n",
       "      <th>0.0</th>\n",
       "      <td>0.000000</td>\n",
       "      <td>0.0</td>\n",
       "      <td>0.000000</td>\n",
       "      <td>0.102865</td>\n",
       "      <td>0.102855</td>\n",
       "      <td>0.102837</td>\n",
       "      <td>0.102812</td>\n",
       "      <td>0.102780</td>\n",
       "      <td>1.0</td>\n",
       "    </tr>\n",
       "    <tr>\n",
       "      <th>2.0</th>\n",
       "      <td>0.000000</td>\n",
       "      <td>0.0</td>\n",
       "      <td>0.004989</td>\n",
       "      <td>0.102837</td>\n",
       "      <td>0.102741</td>\n",
       "      <td>0.102581</td>\n",
       "      <td>0.102358</td>\n",
       "      <td>0.102071</td>\n",
       "      <td>1.0</td>\n",
       "    </tr>\n",
       "    <tr>\n",
       "      <th>4.0</th>\n",
       "      <td>0.000244</td>\n",
       "      <td>0.0</td>\n",
       "      <td>0.042164</td>\n",
       "      <td>0.102780</td>\n",
       "      <td>0.102514</td>\n",
       "      <td>0.102071</td>\n",
       "      <td>0.101451</td>\n",
       "      <td>0.100656</td>\n",
       "      <td>1.0</td>\n",
       "    </tr>\n",
       "    <tr>\n",
       "      <th>6.0</th>\n",
       "      <td>0.019212</td>\n",
       "      <td>0.0</td>\n",
       "      <td>0.059843</td>\n",
       "      <td>0.102695</td>\n",
       "      <td>0.102173</td>\n",
       "      <td>0.101306</td>\n",
       "      <td>0.100096</td>\n",
       "      <td>0.098547</td>\n",
       "      <td>1.0</td>\n",
       "    </tr>\n",
       "    <tr>\n",
       "      <th>8.0</th>\n",
       "      <td>0.048225</td>\n",
       "      <td>0.0</td>\n",
       "      <td>0.038539</td>\n",
       "      <td>0.102581</td>\n",
       "      <td>0.101720</td>\n",
       "      <td>0.100290</td>\n",
       "      <td>0.098299</td>\n",
       "      <td>0.095758</td>\n",
       "      <td>1.0</td>\n",
       "    </tr>\n",
       "  </tbody>\n",
       "</table>\n",
       "</div>"
      ],
      "text/plain": [
       "           c0   c1     other   drift_1   drift_2   drift_3   drift_4  \\\n",
       "0.0  0.000000  0.0  0.000000  0.102865  0.102855  0.102837  0.102812   \n",
       "2.0  0.000000  0.0  0.004989  0.102837  0.102741  0.102581  0.102358   \n",
       "4.0  0.000244  0.0  0.042164  0.102780  0.102514  0.102071  0.101451   \n",
       "6.0  0.019212  0.0  0.059843  0.102695  0.102173  0.101306  0.100096   \n",
       "8.0  0.048225  0.0  0.038539  0.102581  0.101720  0.100290  0.098299   \n",
       "\n",
       "      drift_5  constant  \n",
       "0.0  0.102780       1.0  \n",
       "2.0  0.102071       1.0  \n",
       "4.0  0.100656       1.0  \n",
       "6.0  0.098547       1.0  \n",
       "8.0  0.095758       1.0  "
      ]
     },
     "execution_count": 11,
     "metadata": {},
     "output_type": "execute_result"
    }
   ],
   "source": [
    "lss_res.outputs.design_matrices[6].head()"
   ]
  },
  {
   "cell_type": "code",
   "execution_count": 12,
   "metadata": {
    "scrolled": true
   },
   "outputs": [
    {
     "name": "stderr",
     "output_type": "stream",
     "text": [
      "/home/jdkent/.conda/envs/aim1_valid/lib/python3.7/site-packages/matplotlib/figure.py:2299: UserWarning: This figure includes Axes that are not compatible with tight_layout, so results might be incorrect.\n",
      "  warnings.warn(\"This figure includes Axes that are not compatible \"\n",
      "/home/jdkent/.conda/envs/aim1_valid/lib/python3.7/site-packages/matplotlib/figure.py:2299: UserWarning: This figure includes Axes that are not compatible with tight_layout, so results might be incorrect.\n",
      "  warnings.warn(\"This figure includes Axes that are not compatible \"\n",
      "/home/jdkent/.conda/envs/aim1_valid/lib/python3.7/site-packages/matplotlib/figure.py:2299: UserWarning: This figure includes Axes that are not compatible with tight_layout, so results might be incorrect.\n",
      "  warnings.warn(\"This figure includes Axes that are not compatible \"\n"
     ]
    },
    {
     "data": {
      "image/png": "[encoded data removed]",
      "text/plain": [
       "<Figure size 540x360 with 7 Axes>"
      ]
     },
     "metadata": {
      "needs_background": "light"
     },
     "output_type": "display_data"
    }
   ],
   "source": [
    "# fig, axes = plt.subplots(ncols=6, figsize=(10, 5),\n",
    "#                         gridspec_kw={\n",
    "#                             'width_ratios': [1, 1, 0.5, 1, 1, 10]})\n",
    "fig = plt.figure(figsize=(7.5, 5))\n",
    "gs = gridspec.GridSpec(ncols=6, nrows=2, wspace=0.75, hspace=0.5, figure=fig, width_ratios=[2, 2, 0.1, 2, 1, 10])\n",
    "\n",
    "ax1 = fig.add_subplot(gs[:, 0])\n",
    "ax2 = fig.add_subplot(gs[:, 1])\n",
    "ax3 = fig.add_subplot(gs[:, 2])\n",
    "ax4 = fig.add_subplot(gs[:, 3])\n",
    "ax5 = fig.add_subplot(gs[:, 4])\n",
    "ax6 = fig.add_subplot(gs[0, 5])\n",
    "ax7 = fig.add_subplot(gs[1, 5])\n",
    "\n",
    "# create first plot\n",
    "plot_design_matrix(lss_c0_1, ax=ax1, rescale=False)\n",
    "# set the parameters for drawing a red box\n",
    "x = ax1.get_xbound()[0] + 0.15\n",
    "y = ax1.get_ybound()[1]\n",
    "width = (ax1.get_xbound()[1] // 2) - 0.2\n",
    "height = -ax1.get_ybound()[1]\n",
    "# make the rectangle patch\n",
    "rect0 = patches.Rectangle((x, y), width, height, linewidth=2, edgecolor='r', facecolor='none')\n",
    "ax1.add_patch(rect0)\n",
    "ax1.set_ylabel(\"Volume Number\")\n",
    "ax1.set_xticklabels(ax1.get_xticklabels(), fontdict={'size': 9})\n",
    "ax1.arrow(-2.5, 5, 1, 0,\n",
    "          clip_on=False,\n",
    "          width=2.0,\n",
    "          head_length=1.0,\n",
    "          edgecolor='none',\n",
    "          facecolor='lime')\n",
    "\n",
    "# make the second plot\n",
    "plot_design_matrix(lss_c0_2, ax=ax2, rescale=False)\n",
    "rect1 = patches.Rectangle((x, y), width, height, linewidth=2, edgecolor='r', facecolor='none')\n",
    "ax2.add_patch(rect1)\n",
    "ax2.set_ylabel(\"\");\n",
    "ax2.set_xticklabels(ax2.get_xticklabels(), fontdict={'size': 9})\n",
    "ax2.arrow(-2.5, 30, 1, 0,\n",
    "          clip_on=False,\n",
    "          width=2.0,\n",
    "          head_length=1.0,\n",
    "          edgecolor='none',\n",
    "          facecolor='red')\n",
    "\n",
    "# make the third plot (...)\n",
    "ax3.set_axis_off()\n",
    "ax3.text(-15, 0.5, \"...\", fontdict={'weight': 'heavy', 'size': 20}, verticalalignment='bottom')\n",
    "\n",
    "# make the fourth plot\n",
    "plot_design_matrix(lss_c0_3, ax=ax4, rescale=False)\n",
    "rect3 = patches.Rectangle((x, y), width, height, linewidth=2, edgecolor='r', facecolor='none')\n",
    "ax4.add_patch(rect3)\n",
    "ax4.set_ylabel(\"\");\n",
    "ax4.set_xticklabels(ax4.get_xticklabels(), fontdict={'size': 9})\n",
    "ax4.arrow(-2.5, 185, 1, 0,\n",
    "          clip_on=False,\n",
    "          width=2.0,\n",
    "          head_length=1.0,\n",
    "          edgecolor='none',\n",
    "          facecolor='orange')\n",
    "\n",
    "# make the fifth plot\n",
    "ax5.set_axis_off()\n",
    "ax5.text(-1.5, 0.45, \"Combine\\n   Beta\\nEstimates\", fontdict={'weight': 'heavy'},verticalalignment='bottom')\n",
    "ax5.arrow(-2, 0.50, 3, 0,\n",
    "          clip_on=False,\n",
    "          width=0.15, \n",
    "          head_length=2,\n",
    "          head_width=0.35,\n",
    "          edgecolor='none',\n",
    "          facecolor='blue',\n",
    "          alpha=0.5)\n",
    "\n",
    "# graph condition 0 betas\n",
    "lines = ax6.plot(c0_betas_lss1)\n",
    "lines.extend(ax6.plot(c0_betas_lss2))\n",
    "ax6.legend(handles=lines, labels=(\"voxel 1\", \"voxel 2\"))\n",
    "ax6.set_xlabel(\"Condition-0 Event #\")\n",
    "ax6.set_ylabel(\"Beta Estimate\")\n",
    "ax6.set_yticklabels(\"\")\n",
    "ax6.text(0, -6, \"Condition-0 Beta Estimates\", fontdict={'size': 9, 'weight': 'heavy'}, verticalalignment='bottom')\n",
    "c0_corr = round(np.corrcoef(c0_betas_lss1, c0_betas_lss2)[0,1], 2)\n",
    "ax6.text(28, 10, 'r = {}'.format(c0_corr), style='italic',\n",
    "        bbox={'facecolor': 'red', 'alpha': 0.5, 'pad': 3})\n",
    "\n",
    "# graph condition 1 betas\n",
    "ax7.plot(c1_betas_lss1)\n",
    "ax7.plot(c1_betas_lss2)\n",
    "ax7.set_xlabel(\"Condition-1 Event #\")\n",
    "ax7.set_ylabel(\"Beta Estimate\")\n",
    "ax7.set_yticklabels(\"\")\n",
    "ax7.text(0, -8.5, \"Condition-1 Beta Estimates\", fontdict={'size': 9, 'weight': 'heavy'}, verticalalignment='bottom')\n",
    "# ax7.arrow(0, c1_betas_lss[0]+3, 0, -2,\n",
    "#          clip_on=False,\n",
    "#          width=0.75,\n",
    "#          head_length=1.25,\n",
    "#          edgecolor='none',\n",
    "#          facecolor='green')\n",
    "\n",
    "#ax7.arrow(5, c1_betas_lss[5]-3, 0, 2,\n",
    "#          clip_on=False,\n",
    "#          width=0.75,\n",
    "#          head_length=1.25,\n",
    "#          edgecolor='none',\n",
    "#          facecolor='red', zorder=100)\n",
    "\n",
    "\n",
    "#ax7.arrow(46, c1_betas_lss[46]-3, 0, 2,\n",
    "#          clip_on=False,\n",
    "#          width=0.75,\n",
    "#          head_length=1.25,\n",
    "#          edgecolor='none',\n",
    "#          facecolor='orange')\n",
    "\n",
    "y_pos = ax7.get_ybound()[0]\n",
    "y_height = ax7.get_ybound()[1] * 2\n",
    "ax7.add_patch(patches.Rectangle((-1, y_pos), 2, y_height, facecolor='lime', alpha=0.5))\n",
    "ax7.add_patch(patches.Rectangle((4, y_pos), 2, y_height, facecolor='red', alpha=0.5))\n",
    "ax7.add_patch(patches.Rectangle((45, y_pos), 2, y_height, facecolor='orange', alpha=0.5))\n",
    "\n",
    "c1_corr = round(np.corrcoef(c1_betas_lss1, c1_betas_lss2)[0,1], 2)\n",
    "ax7.text(30, 8, 'r = {}'.format(c1_corr), style='italic',\n",
    "        bbox={'facecolor': 'red', 'alpha': 0.5, 'pad': 3})\n",
    "\n",
    "fig.suptitle(\"Least Squares Separate (LSS) GLM\", fontsize=15, fontweight='heavy', x=0.50, y=1.02);\n",
    "save_eps(fig, \"./outputs/introduction-lss\")"
   ]
  },
  {
   "cell_type": "code",
   "execution_count": 13,
   "metadata": {},
   "outputs": [],
   "source": [
    "fig.suptitle(\"\")\n",
    "save_eps(fig, \"./outputs/introduction-lss_separate\")"
   ]
  },
  {
   "cell_type": "code",
   "execution_count": 14,
   "metadata": {},
   "outputs": [
    {
     "name": "stderr",
     "output_type": "stream",
     "text": [
      "/home/jdkent/.conda/envs/aim1_valid/lib/python3.7/site-packages/nibetaseries/interfaces/nistats.py:203: DeprecationWarning: The parameter \"mask\" will be removed in next release of Nistats. Please use the parameter \"mask_img\" instead.\n",
      "  minimize_memory=False,\n",
      "Computing run 1 out of 1 runs (go take a coffee, a big one)\n",
      "\n",
      "Computation of 1 runs done in 0 seconds\n",
      "\n",
      "/home/jdkent/.conda/envs/aim1_valid/lib/python3.7/site-packages/nistats/regression.py:339: FutureWarning: 'resid' from RegressionResults has been deprecated and will be removed. Please use 'residuals' instead.\n",
      "  FutureWarning,\n"
     ]
    }
   ],
   "source": [
    "os.chdir('./outputs/lsa')\n",
    "lsa_model = LSABetaSeries(\n",
    "    bold_file=two_voxel_img, mask_file=two_voxel_mask,\n",
    "    bold_metadata=metadata, events_file='../../data/events19.tsv',\n",
    "    hrf_model='glover',\n",
    "    smoothing_kernel=None,\n",
    "    high_pass=0.0078125)\n",
    "lsa_res = lsa_model.run()\n",
    "os.chdir('../..')"
   ]
  },
  {
   "cell_type": "code",
   "execution_count": 15,
   "metadata": {},
   "outputs": [],
   "source": [
    "c0_betas_lsa1 = nib.load('./outputs/lsa/desc-c0_betaseries.nii.gz').get_fdata()[:,:,0,:].squeeze() / 1000\n",
    "c1_betas_lsa1 = nib.load('./outputs/lsa/desc-c1_betaseries.nii.gz').get_fdata()[:,:,0,:].squeeze() / 1000\n",
    "c0_betas_lsa2 = nib.load('./outputs/lsa/desc-c0_betaseries.nii.gz').get_fdata()[:,:,1,:].squeeze() / 1000\n",
    "c1_betas_lsa2 = nib.load('./outputs/lsa/desc-c1_betaseries.nii.gz').get_fdata()[:,:,1,:].squeeze() / 1000"
   ]
  },
  {
   "cell_type": "code",
   "execution_count": 16,
   "metadata": {},
   "outputs": [],
   "source": [
    "lsa_des = lsa_res.outputs.design_matrices[0].loc[:,\"c0_0001\":\"c1_0047\"]"
   ]
  },
  {
   "cell_type": "code",
   "execution_count": 17,
   "metadata": {},
   "outputs": [
    {
     "data": {
      "text/plain": [
       "array([[1.        , 0.37172188],\n",
       "       [0.37172188, 1.        ]])"
      ]
     },
     "execution_count": 17,
     "metadata": {},
     "output_type": "execute_result"
    }
   ],
   "source": [
    "np.corrcoef(c1_betas_lsa1, c1_betas_lsa2)"
   ]
  },
  {
   "cell_type": "code",
   "execution_count": 18,
   "metadata": {
    "scrolled": true
   },
   "outputs": [
    {
     "data": {
      "image/png": "[encoded data removed]",
      "text/plain": [
       "<Figure size 540x360 with 4 Axes>"
      ]
     },
     "metadata": {
      "needs_background": "light"
     },
     "output_type": "display_data"
    }
   ],
   "source": [
    "fig = plt.figure(figsize=(7.5, 5))\n",
    "gs = gridspec.GridSpec(ncols=3, nrows=2, figure=fig, width_ratios=[10, 1, 10])\n",
    "\n",
    "ax1 = fig.add_subplot(gs[:, 0])\n",
    "ax2 = fig.add_subplot(gs[:, 1])\n",
    "ax3 = fig.add_subplot(gs[0, 2])\n",
    "ax4 = fig.add_subplot(gs[1, 2])\n",
    "\n",
    "plot_design_matrix(lsa_des, ax=ax1, rescale=False)\n",
    "n_labels = len(ax1.get_xticklabels())\n",
    "new_labels = ['Condition 0 Events' if v == 42 else 'Condition 1 Events' if v == 89 else '' for v in range(n_labels)]\n",
    "ax1.set_xticklabels(new_labels, fontdict={'fontsize': 9, 'fontweight': 'heavy'}, rotation=0);\n",
    "ax1.set_ylabel(\"Volume Number\")\n",
    "\n",
    "ax1.arrow(37, 5, 3, 0,\n",
    "          clip_on=False,\n",
    "          width=3.0,\n",
    "          head_length=2.0,\n",
    "          edgecolor='none',\n",
    "          facecolor='lime')\n",
    "\n",
    "ax1.arrow(44, 30, 3, 0,\n",
    "          clip_on=False,\n",
    "          width=3.0,\n",
    "          head_length=2.0,\n",
    "          edgecolor='none',\n",
    "          facecolor='red')\n",
    "\n",
    "ax1.arrow(94, 187, -3, 0,\n",
    "          clip_on=False,\n",
    "          width=3.0,\n",
    "          head_length=2.0,\n",
    "          edgecolor='none',\n",
    "          facecolor='orange')\n",
    "\n",
    "ax2.set_axis_off()\n",
    "ax2.text(-1, 0.5, \"Combine\\n   Beta\\nEstimates\", fontdict={'weight': 'heavy'},verticalalignment='bottom')\n",
    "ax2.arrow(-1, 0.56, 1.5, 0,\n",
    "          clip_on=False,\n",
    "          width=0.15, \n",
    "          head_length=2,\n",
    "          head_width=0.35,\n",
    "          edgecolor='none',\n",
    "          facecolor='blue',\n",
    "          alpha=0.5)\n",
    "\n",
    "# graph condition 0 betas\n",
    "lines = ax3.plot(c0_betas_lsa1)\n",
    "lines.extend(ax3.plot(c0_betas_lsa2))\n",
    "ax3.legend(handles=lines, labels=(\"voxel 1\", \"voxel 2\"), loc='upper left')\n",
    "\n",
    "c0_corr = round(np.corrcoef(c0_betas_lsa1, c0_betas_lsa2)[0,1], 2)\n",
    "ax3.text(32, 8.5, 'r = {}'.format(c0_corr), style='italic',\n",
    "        bbox={'facecolor': 'red', 'alpha': 0.5, 'pad': 3})\n",
    "\n",
    "ax3.set_xlabel(\"Condition-0 Event #\")\n",
    "ax3.set_ylabel(\"Beta Estimate\")\n",
    "ax3.set_yticklabels(\"\")\n",
    "ax3.text(0, -8, \"Condition-0 Beta Estimates\", fontdict={'weight': 'heavy'}, verticalalignment='bottom')\n",
    "# graph condition 1 betas\n",
    "ax4.plot(c1_betas_lsa1)\n",
    "ax4.plot(c1_betas_lsa2)\n",
    "ax4.set_xlabel(\"Condition-1 Event #\")\n",
    "ax4.set_ylabel(\"Beta Estimate\")\n",
    "ax4.set_yticklabels(\"\")\n",
    "ax4.text(0, -7.5, \"Condition-1 Beta Estimates\", fontdict={'weight': 'heavy'}, verticalalignment='bottom')\n",
    "\n",
    "#ax4.arrow(0, c1_betas_lsa[0]+3, 0, -2,\n",
    "#          clip_on=False,\n",
    "#          width=0.75,\n",
    "#          head_length=1.25,\n",
    "#          edgecolor='none',\n",
    "#          facecolor='green')\n",
    "\n",
    "#ax4.arrow(5, c1_betas_lsa[5]-3, 0, 2,\n",
    "#          clip_on=False,\n",
    "#          width=0.75,\n",
    "#          head_length=1.25,\n",
    "#          edgecolor='none',\n",
    "#          facecolor='red', zorder=100)\n",
    "\n",
    "\n",
    "#ax4.arrow(46, c1_betas_lsa[46]+3, 0, -2,\n",
    "#          clip_on=False,\n",
    "#          width=0.75,\n",
    "#          head_length=1.25,\n",
    "#          edgecolor='none',\n",
    "#          facecolor='orange')\n",
    "\n",
    "c1_corr = round(np.corrcoef(c1_betas_lsa1, c1_betas_lsa2)[0,1], 2)\n",
    "ax4.text(35, 17, 'r = {}'.format(c1_corr), style='italic',\n",
    "        bbox={'facecolor': 'red', 'alpha': 0.5, 'pad': 3})\n",
    "\n",
    "y_pos = ax7.get_ybound()[0]\n",
    "y_height = ax7.get_ybound()[1] * 3\n",
    "ax4.add_patch(patches.Rectangle((-1, y_pos), 2, y_height, facecolor='lime', alpha=0.5))\n",
    "ax4.add_patch(patches.Rectangle((4, y_pos), 2, y_height, facecolor='red', alpha=0.5))\n",
    "ax4.add_patch(patches.Rectangle((45, y_pos), 2, y_height, facecolor='orange', alpha=0.5))\n",
    "\n",
    "fig.suptitle(\"Least Squares All (LSA) GLM\", fontsize=15, fontweight='heavy', x=0.50, y=1.02);\n",
    "save_eps(fig, \"./outputs/introduction-lsa\")"
   ]
  },
  {
   "cell_type": "code",
   "execution_count": 19,
   "metadata": {},
   "outputs": [],
   "source": [
    "fig.suptitle(\"\");\n",
    "save_eps(fig, \"./outputs/introduction-lsa_separate\")"
   ]
  },
  {
   "cell_type": "code",
   "execution_count": 20,
   "metadata": {},
   "outputs": [
    {
     "data": {
      "image/png": "[encoded data removed]",
      "text/plain": [
       "<Figure size 144x432 with 1 Axes>"
      ]
     },
     "metadata": {
      "needs_background": "light"
     },
     "output_type": "display_data"
    }
   ],
   "source": [
    "# LSU model (traditional model)\n",
    "tr = 2\n",
    "frame_times = np.arange(two_voxel_img.shape[-1]) * tr\n",
    "lsu_design_matrix = dm.make_first_level_design_matrix(frame_times, events=events_df, high_pass=0.0).loc[:,'c0':'c1']\n",
    "\n",
    "lsu_design_matrix.rename({\"c0\": \"Condition 0\", \"c1\": \"Condition 1\"}, axis=1, inplace=True)\n",
    "\n",
    "fig, ax = plt.subplots(figsize=(2, 6))\n",
    "\n",
    "plot_design_matrix(lsu_design_matrix, rescale=False, ax=ax)\n",
    "ax.set_xticklabels(ax.get_xticklabels(), weight=\"heavy\")\n",
    "ax.set_ylabel(\"Volume Number\", fontdict={\"weight\": \"heavy\"});\n",
    "fig.suptitle(\"Traditional GLM\", fontsize=15, fontweight='heavy', x=0.60, y=1.02);\n",
    "save_eps(fig, \"./outputs/introduction-normalGLM\")"
   ]
  },
  {
   "cell_type": "code",
   "execution_count": 21,
   "metadata": {},
   "outputs": [],
   "source": [
    "fig.suptitle(\"\");\n",
    "save_eps(fig, \"./outputs/introduction-normalGLM_separate\")"
   ]
  },
  {
   "cell_type": "markdown",
   "metadata": {},
   "source": [
    "## Show example Simulation/Real Data"
   ]
  },
  {
   "cell_type": "code",
   "execution_count": 22,
   "metadata": {},
   "outputs": [],
   "source": [
    "masker = NiftiLabelsMasker(ACTIVATION_ATLAS)\n",
    "real_bold_data = masker.fit_transform(EXAMPLE_BOLD).T"
   ]
  },
  {
   "cell_type": "code",
   "execution_count": 23,
   "metadata": {},
   "outputs": [
    {
     "data": {
      "text/plain": [
       "(21, 471)"
      ]
     },
     "execution_count": 23,
     "metadata": {},
     "output_type": "execute_result"
    }
   ],
   "source": [
    "real_bold_data.shape"
   ]
  },
  {
   "cell_type": "code",
   "execution_count": 24,
   "metadata": {},
   "outputs": [],
   "source": [
    "fake_bold = nib.load('./data/bold_sim_taskswitch.nii.gz')\n",
    "fake_bold_data = fake_bold.get_fdata().squeeze()"
   ]
  },
  {
   "cell_type": "code",
   "execution_count": 25,
   "metadata": {},
   "outputs": [
    {
     "data": {
      "text/plain": [
       "(2, 471)"
      ]
     },
     "execution_count": 25,
     "metadata": {},
     "output_type": "execute_result"
    }
   ],
   "source": [
    "fake_bold_data.shape"
   ]
  },
  {
   "cell_type": "code",
   "execution_count": 26,
   "metadata": {},
   "outputs": [],
   "source": [
    "tr = 2\n",
    "nvol = 471\n",
    "frame_times = np.arange(0, nvol * tr, 2)\n",
    "events_df = pd.read_csv('./data/sub-GE120012_ses-pre_task-taskswitch_events.tsv', sep='\\t')\n",
    "design = make_first_level_design_matrix(frame_times=frame_times, events=events_df, oversampling=1)"
   ]
  },
  {
   "cell_type": "code",
   "execution_count": 27,
   "metadata": {},
   "outputs": [],
   "source": [
    "predicted_bold = design[['repeat', 'single', 'switch']].sum(axis=1).values"
   ]
  },
  {
   "cell_type": "code",
   "execution_count": 28,
   "metadata": {},
   "outputs": [
    {
     "data": {
      "image/png": "[encoded data removed]",
      "text/plain": [
       "<Figure size 374.4x288 with 1 Axes>"
      ]
     },
     "metadata": {},
     "output_type": "display_data"
    }
   ],
   "source": [
    "fig, ax = plt.subplots(1, 1, figsize=(5.2, 4))\n",
    "\n",
    "# set the plots and legend\n",
    "lines = ax.plot(zscore(predicted_bold[20:50]), color='black', linewidth=8, alpha=0.2)\n",
    "lines.extend(ax.plot(zscore(real_bold_data[2,20:50]), linewidth=5, linestyle='--', alpha=0.7))\n",
    "lines.extend(ax.plot(zscore(fake_bold_data[0,20:50]), linewidth=5, alpha=0.7))\n",
    "ax.legend(handles=lines, labels=(\"Predicted BOLD\", \"Real BOLD\", \"Simulated BOLD\"))\n",
    "\n",
    "# remove the ticks\n",
    "ax.set_yticks([])\n",
    "ax.set_xticks([]);\n",
    "\n",
    "# extend ylim\n",
    "ax.set_ylim(-3, 3)\n",
    "\n",
    "# label axes\n",
    "ax.set_ylabel(\"BOLD Response\\n(Arbitrary Units)\", fontdict={'size': 15, 'weight': 'heavy'});\n",
    "ax.set_xlabel(\"Time (Seconds)\", fontdict={'size': 15, 'weight': 'heavy'});\n",
    "ax.set_title('Simulated Data Illustration', fontdict={'size': 20, 'weight': 'heavy'})\n",
    "save_eps(fig, \"./outputs/methods-simulation_example\")"
   ]
  },
  {
   "cell_type": "code",
   "execution_count": 29,
   "metadata": {},
   "outputs": [],
   "source": [
    "ax.set_title(\"\")\n",
    "save_eps(fig, \"./outputs/methods-simulation_example_separate\")"
   ]
  },
  {
   "cell_type": "markdown",
   "metadata": {},
   "source": [
    "## Show Event/Block/Mixed designs"
   ]
  },
  {
   "cell_type": "markdown",
   "metadata": {},
   "source": [
    "### event related design"
   ]
  },
  {
   "cell_type": "code",
   "execution_count": 198,
   "metadata": {},
   "outputs": [],
   "source": [
    "rand = np.random.RandomState(123)\n",
    "event_size = 60"
   ]
  },
  {
   "cell_type": "code",
   "execution_count": 199,
   "metadata": {},
   "outputs": [
    {
     "data": {
      "text/plain": [
       "array([ 9.53817715,  2.69653986,  2.05827264,  6.41146945, 10.16856748,\n",
       "        4.40078029, 31.60785655,  9.23713819,  5.24576155,  3.98218962,\n",
       "        3.362738  , 10.44655918,  4.61817741,  0.49226239,  4.0605708 ,\n",
       "       10.71514592,  1.61195408,  1.54335701,  6.06663071,  6.07134918,\n",
       "        8.04974449, 15.14671282, 10.31204403,  7.55389101, 10.25384272,\n",
       "        3.12018655,  3.59268632,  2.07289408,  2.78188072,  7.97515146,\n",
       "        0.77301184,  4.54906701,  4.50906948,  5.44477173,  4.43864212,\n",
       "        2.99476958,  4.44590482, 17.9085609 , 23.08212117,  5.57461837,\n",
       "        7.82432812,  0.98293304,  3.05342791,  4.28677122, 16.09780234,\n",
       "        2.30631529,  5.27822945, 33.90190639,  5.86317665,  7.59246464,\n",
       "        1.02838416, 14.00528419,  7.39176373,  6.30085869,  3.35769491,\n",
       "        2.90063345,  4.31684953,  9.14805968, 16.66482377,  5.71369738])"
      ]
     },
     "metadata": {},
     "output_type": "display_data"
    },
    {
     "data": {
      "text/plain": [
       "array([  9.53817715,  12.23471701,  14.29298965,  20.7044591 ,\n",
       "        30.87302659,  35.27380687,  66.88166343,  76.11880162,\n",
       "        81.36456316,  85.34675278,  88.70949078,  99.15604996,\n",
       "       103.77422737, 104.26648977, 108.32706057, 119.04220649,\n",
       "       120.65416057, 122.19751758, 128.26414829, 134.33549747,\n",
       "       142.38524196, 157.53195478, 167.84399881, 175.39788981,\n",
       "       185.65173253, 188.77191909, 192.3646054 , 194.43749948,\n",
       "       197.2193802 , 205.19453166, 205.9675435 , 210.51661051,\n",
       "       215.02567999, 220.47045172, 224.90909384, 227.90386342,\n",
       "       232.34976824, 250.25832915, 273.34045032, 278.91506869,\n",
       "       286.73939681, 287.72232985, 290.77575776, 295.06252898,\n",
       "       311.16033132, 313.46664661, 318.74487606, 352.64678245,\n",
       "       358.5099591 , 366.10242374, 367.1308079 , 381.13609209,\n",
       "       388.52785583, 394.82871452, 398.18640942, 401.08704287,\n",
       "       405.4038924 , 414.55195209, 431.21677585, 436.93047324])"
      ]
     },
     "execution_count": 199,
     "metadata": {},
     "output_type": "execute_result"
    }
   ],
   "source": [
    "event_related_ieis = rand.exponential(scale=8, size=event_size)\n",
    "display(event_related_ieis)\n",
    "onsets = np.cumsum(event_related_ieis)\n",
    "onsets"
   ]
  },
  {
   "cell_type": "code",
   "execution_count": 200,
   "metadata": {},
   "outputs": [
    {
     "data": {
      "text/plain": [
       "array(['nonword', 'word', 'nonword', 'nonword', 'nonword', 'nonword',\n",
       "       'word', 'word', 'word', 'nonword', 'nonword', 'word', 'word',\n",
       "       'nonword', 'nonword', 'word', 'word', 'word', 'nonword', 'word',\n",
       "       'nonword', 'nonword', 'word', 'word', 'nonword', 'word', 'nonword',\n",
       "       'nonword', 'nonword', 'nonword', 'word', 'nonword', 'word',\n",
       "       'nonword', 'word', 'word', 'nonword', 'nonword', 'word', 'nonword',\n",
       "       'nonword', 'nonword', 'word', 'nonword', 'nonword', 'nonword',\n",
       "       'nonword', 'word', 'word', 'nonword', 'nonword', 'word', 'word',\n",
       "       'nonword', 'word', 'word', 'word', 'nonword', 'word', 'nonword'],\n",
       "      dtype='<U7')"
      ]
     },
     "execution_count": 200,
     "metadata": {},
     "output_type": "execute_result"
    }
   ],
   "source": [
    "trial_type = rand.choice([\"word\", \"nonword\"], size=event_size)\n",
    "trial_type"
   ]
  },
  {
   "cell_type": "code",
   "execution_count": 201,
   "metadata": {},
   "outputs": [
    {
     "data": {
      "text/html": [
       "<div>\n",
       "<style scoped>\n",
       "    .dataframe tbody tr th:only-of-type {\n",
       "        vertical-align: middle;\n",
       "    }\n",
       "\n",
       "    .dataframe tbody tr th {\n",
       "        vertical-align: top;\n",
       "    }\n",
       "\n",
       "    .dataframe thead th {\n",
       "        text-align: right;\n",
       "    }\n",
       "</style>\n",
       "<table border=\"1\" class=\"dataframe\">\n",
       "  <thead>\n",
       "    <tr style=\"text-align: right;\">\n",
       "      <th></th>\n",
       "      <th>trial_type</th>\n",
       "      <th>onset</th>\n",
       "      <th>duration</th>\n",
       "    </tr>\n",
       "  </thead>\n",
       "  <tbody>\n",
       "    <tr>\n",
       "      <th>0</th>\n",
       "      <td>nonword</td>\n",
       "      <td>9.538177</td>\n",
       "      <td>1</td>\n",
       "    </tr>\n",
       "    <tr>\n",
       "      <th>1</th>\n",
       "      <td>word</td>\n",
       "      <td>12.234717</td>\n",
       "      <td>1</td>\n",
       "    </tr>\n",
       "    <tr>\n",
       "      <th>2</th>\n",
       "      <td>nonword</td>\n",
       "      <td>14.292990</td>\n",
       "      <td>1</td>\n",
       "    </tr>\n",
       "    <tr>\n",
       "      <th>3</th>\n",
       "      <td>nonword</td>\n",
       "      <td>20.704459</td>\n",
       "      <td>1</td>\n",
       "    </tr>\n",
       "    <tr>\n",
       "      <th>4</th>\n",
       "      <td>nonword</td>\n",
       "      <td>30.873027</td>\n",
       "      <td>1</td>\n",
       "    </tr>\n",
       "  </tbody>\n",
       "</table>\n",
       "</div>"
      ],
      "text/plain": [
       "  trial_type      onset  duration\n",
       "0    nonword   9.538177         1\n",
       "1       word  12.234717         1\n",
       "2    nonword  14.292990         1\n",
       "3    nonword  20.704459         1\n",
       "4    nonword  30.873027         1"
      ]
     },
     "execution_count": 201,
     "metadata": {},
     "output_type": "execute_result"
    }
   ],
   "source": [
    "event_related_df = pd.DataFrame({\"trial_type\": trial_type, \"onset\": onsets, \"duration\": [1] * len(onsets)})\n",
    "event_related_df.head()"
   ]
  },
  {
   "cell_type": "code",
   "execution_count": 202,
   "metadata": {
    "scrolled": true
   },
   "outputs": [
    {
     "data": {
      "image/png": "[encoded data removed]",
      "text/plain": [
       "<Figure size 144x432 with 1 Axes>"
      ]
     },
     "metadata": {
      "needs_background": "light"
     },
     "output_type": "display_data"
    }
   ],
   "source": [
    "frame_times = np.arange(int(onsets.max()) + 16)\n",
    "event_design_matrix = dm.make_first_level_design_matrix(frame_times, events=event_related_df, high_pass=0.0).loc[:,'nonword':'word']\n",
    "fig, ax = plt.subplots(figsize=(2, 6))\n",
    "\n",
    "plot_design_matrix(event_design_matrix, rescale=False, ax=ax)\n",
    "ax.set_xticklabels(ax.get_xticklabels(), weight=\"heavy\", size=13)\n",
    "ax.set_yticks([])\n",
    "ax.set_ylabel(\"Volume Number\", fontdict={\"weight\": \"heavy\"}, size=15);\n",
    "fig.suptitle(\"Event Related Design\", fontsize=15, fontweight='heavy', x=0.60, y=1.02);\n",
    "save_eps(fig, \"./outputs/event_design\")"
   ]
  },
  {
   "cell_type": "markdown",
   "metadata": {},
   "source": [
    "### Block Designs"
   ]
  },
  {
   "cell_type": "code",
   "execution_count": 203,
   "metadata": {},
   "outputs": [
    {
     "data": {
      "text/plain": [
       "array([  0.,   2.,   4.,   6.,   8.,  10.,  12.,  14.,  16.,  18.,  20.,\n",
       "        22.,  24.,  26.,  28.,  30.,  32.,  34.,  36.,  38.,  40.,  42.,\n",
       "        44.,  46.,  48.,  50.,  52.,  54.,  56.,  58.,  90.,  92.,  94.,\n",
       "        96.,  98., 100., 102., 104., 106., 108., 110., 112., 114., 116.,\n",
       "       118., 120., 122., 124., 126., 128., 130., 132., 134., 136., 138.,\n",
       "       140., 142., 144., 146., 148., 180., 182., 184., 186., 188., 190.,\n",
       "       192., 194., 196., 198., 200., 202., 204., 206., 208., 210., 212.,\n",
       "       214., 216., 218., 220., 222., 224., 226., 228., 230., 232., 234.,\n",
       "       236., 238., 270., 272., 274., 276., 278., 280., 282., 284., 286.,\n",
       "       288., 290., 292., 294., 296., 298., 300., 302., 304., 306., 308.,\n",
       "       310., 312., 314., 316., 318., 320., 322., 324., 326., 328.])"
      ]
     },
     "execution_count": 203,
     "metadata": {},
     "output_type": "execute_result"
    }
   ],
   "source": [
    "rest_time = 30\n",
    "num_blocks = 4\n",
    "block_size = event_size // 2\n",
    "block_iei = 2\n",
    "\n",
    "block_onsets = np.array([])\n",
    "\n",
    "for block_idx in range(num_blocks):\n",
    "    block_onsets = np.append(block_onsets, np.arange(0, block_size*block_iei, block_iei) + block_idx*(rest_time*3))\n",
    "block_onsets"
   ]
  },
  {
   "cell_type": "code",
   "execution_count": 204,
   "metadata": {},
   "outputs": [
    {
     "data": {
      "text/html": [
       "<div>\n",
       "<style scoped>\n",
       "    .dataframe tbody tr th:only-of-type {\n",
       "        vertical-align: middle;\n",
       "    }\n",
       "\n",
       "    .dataframe tbody tr th {\n",
       "        vertical-align: top;\n",
       "    }\n",
       "\n",
       "    .dataframe thead th {\n",
       "        text-align: right;\n",
       "    }\n",
       "</style>\n",
       "<table border=\"1\" class=\"dataframe\">\n",
       "  <thead>\n",
       "    <tr style=\"text-align: right;\">\n",
       "      <th></th>\n",
       "      <th>trial_type</th>\n",
       "      <th>onset</th>\n",
       "      <th>duration</th>\n",
       "    </tr>\n",
       "  </thead>\n",
       "  <tbody>\n",
       "    <tr>\n",
       "      <th>0</th>\n",
       "      <td>word</td>\n",
       "      <td>0.0</td>\n",
       "      <td>1</td>\n",
       "    </tr>\n",
       "    <tr>\n",
       "      <th>1</th>\n",
       "      <td>word</td>\n",
       "      <td>2.0</td>\n",
       "      <td>1</td>\n",
       "    </tr>\n",
       "    <tr>\n",
       "      <th>2</th>\n",
       "      <td>word</td>\n",
       "      <td>4.0</td>\n",
       "      <td>1</td>\n",
       "    </tr>\n",
       "    <tr>\n",
       "      <th>3</th>\n",
       "      <td>word</td>\n",
       "      <td>6.0</td>\n",
       "      <td>1</td>\n",
       "    </tr>\n",
       "    <tr>\n",
       "      <th>4</th>\n",
       "      <td>word</td>\n",
       "      <td>8.0</td>\n",
       "      <td>1</td>\n",
       "    </tr>\n",
       "  </tbody>\n",
       "</table>\n",
       "</div>"
      ],
      "text/plain": [
       "  trial_type  onset  duration\n",
       "0       word    0.0         1\n",
       "1       word    2.0         1\n",
       "2       word    4.0         1\n",
       "3       word    6.0         1\n",
       "4       word    8.0         1"
      ]
     },
     "execution_count": 204,
     "metadata": {},
     "output_type": "execute_result"
    }
   ],
   "source": [
    "word_trial_type = np.repeat([\"word\"], block_size)\n",
    "word_trial_type\n",
    "nonword_trial_type = np.repeat([\"nonword\"], block_size)\n",
    "\n",
    "block_trial_type = np.hstack((word_trial_type, nonword_trial_type, word_trial_type, nonword_trial_type))\n",
    "block_event_df = pd.DataFrame({\"trial_type\": block_trial_type, \"onset\": block_onsets, \"duration\": [1] * len(block_onsets)})\n",
    "block_event_df.head()"
   ]
  },
  {
   "cell_type": "code",
   "execution_count": 205,
   "metadata": {
    "scrolled": true
   },
   "outputs": [
    {
     "data": {
      "image/png": "[encoded data removed]",
      "text/plain": [
       "<Figure size 144x432 with 1 Axes>"
      ]
     },
     "metadata": {
      "needs_background": "light"
     },
     "output_type": "display_data"
    }
   ],
   "source": [
    "block_frame_times = np.arange(int(block_onsets.max()) + 16)\n",
    "block_design_matrix = dm.make_first_level_design_matrix(block_frame_times, events=block_event_df, high_pass=0.0).loc[:,'nonword':'word']\n",
    "fig, ax = plt.subplots(figsize=(2, 6))\n",
    "\n",
    "plot_design_matrix(block_design_matrix, rescale=False, ax=ax)\n",
    "ax.set_xticklabels(ax.get_xticklabels(), weight=\"heavy\", size=13)\n",
    "ax.set_yticks([])\n",
    "ax.set_ylabel(\"Volume Number\", fontdict={\"weight\": \"heavy\"}, size=15);\n",
    "fig.suptitle(\"Block Design\", fontsize=15, fontweight='heavy', x=0.60, y=1.02);\n",
    "save_eps(fig, \"./outputs/block_design\")"
   ]
  },
  {
   "cell_type": "markdown",
   "metadata": {},
   "source": [
    "### Mixed design"
   ]
  },
  {
   "cell_type": "code",
   "execution_count": 206,
   "metadata": {},
   "outputs": [
    {
     "data": {
      "text/plain": [
       "(120,)"
      ]
     },
     "execution_count": 206,
     "metadata": {},
     "output_type": "execute_result"
    }
   ],
   "source": [
    "num_mixed_blocks = 4\n",
    "mixed_block_size = event_size // 2\n",
    "\n",
    "mixed_block_onsets = np.array([])\n",
    "\n",
    "for block_idx in range(num_mixed_blocks):\n",
    "    mixed_ieis = rand.exponential(scale=2, size=mixed_block_size)\n",
    "    mixed_onsets = np.cumsum(mixed_ieis) + block_idx*(rest_time*3)\n",
    "    \n",
    "    mixed_block_onsets = np.append(mixed_block_onsets, mixed_onsets)\n",
    "mixed_block_onsets.shape"
   ]
  },
  {
   "cell_type": "code",
   "execution_count": 207,
   "metadata": {},
   "outputs": [
    {
     "data": {
      "text/plain": [
       "(120,)"
      ]
     },
     "execution_count": 207,
     "metadata": {},
     "output_type": "execute_result"
    }
   ],
   "source": [
    "word_mixed_trial_type = np.repeat([\"word\"], mixed_block_size)\n",
    "nonword_mixed_trial_type = np.repeat([\"nonword\"], mixed_block_size)\n",
    "mixed_block_trial_type1 = rand.choice([\"word\", \"nonword\"], size=mixed_block_size)\n",
    "mixed_block_trial_type2 = rand.choice([\"word\", \"nonword\"], size=mixed_block_size)\n",
    "mixed_trial_type = np.hstack((word_mixed_trial_type, nonword_mixed_trial_type, mixed_block_trial_type1, mixed_block_trial_type2))\n",
    "mixed_trial_type.shape"
   ]
  },
  {
   "cell_type": "code",
   "execution_count": 208,
   "metadata": {},
   "outputs": [
    {
     "data": {
      "text/html": [
       "<div>\n",
       "<style scoped>\n",
       "    .dataframe tbody tr th:only-of-type {\n",
       "        vertical-align: middle;\n",
       "    }\n",
       "\n",
       "    .dataframe tbody tr th {\n",
       "        vertical-align: top;\n",
       "    }\n",
       "\n",
       "    .dataframe thead th {\n",
       "        text-align: right;\n",
       "    }\n",
       "</style>\n",
       "<table border=\"1\" class=\"dataframe\">\n",
       "  <thead>\n",
       "    <tr style=\"text-align: right;\">\n",
       "      <th></th>\n",
       "      <th>trial_type</th>\n",
       "      <th>onset</th>\n",
       "      <th>duration</th>\n",
       "    </tr>\n",
       "  </thead>\n",
       "  <tbody>\n",
       "    <tr>\n",
       "      <th>0</th>\n",
       "      <td>word</td>\n",
       "      <td>2.441281</td>\n",
       "      <td>1</td>\n",
       "    </tr>\n",
       "    <tr>\n",
       "      <th>1</th>\n",
       "      <td>word</td>\n",
       "      <td>13.186708</td>\n",
       "      <td>1</td>\n",
       "    </tr>\n",
       "    <tr>\n",
       "      <th>2</th>\n",
       "      <td>word</td>\n",
       "      <td>14.066557</td>\n",
       "      <td>1</td>\n",
       "    </tr>\n",
       "    <tr>\n",
       "      <th>3</th>\n",
       "      <td>word</td>\n",
       "      <td>16.942135</td>\n",
       "      <td>1</td>\n",
       "    </tr>\n",
       "    <tr>\n",
       "      <th>4</th>\n",
       "      <td>word</td>\n",
       "      <td>18.740889</td>\n",
       "      <td>1</td>\n",
       "    </tr>\n",
       "  </tbody>\n",
       "</table>\n",
       "</div>"
      ],
      "text/plain": [
       "  trial_type      onset  duration\n",
       "0       word   2.441281         1\n",
       "1       word  13.186708         1\n",
       "2       word  14.066557         1\n",
       "3       word  16.942135         1\n",
       "4       word  18.740889         1"
      ]
     },
     "execution_count": 208,
     "metadata": {},
     "output_type": "execute_result"
    }
   ],
   "source": [
    "mixed_event_df = pd.DataFrame({\"trial_type\": mixed_trial_type, \"onset\": mixed_block_onsets, \"duration\": [1] * len(mixed_block_onsets)})\n",
    "mixed_event_df.head()"
   ]
  },
  {
   "cell_type": "code",
   "execution_count": 209,
   "metadata": {},
   "outputs": [
    {
     "data": {
      "image/png": "[encoded data removed]",
      "text/plain": [
       "<Figure size 144x432 with 1 Axes>"
      ]
     },
     "metadata": {
      "needs_background": "light"
     },
     "output_type": "display_data"
    }
   ],
   "source": [
    "mixed_frame_times = np.arange(int(mixed_block_onsets.max()) + 16)\n",
    "mixed_design_matrix = dm.make_first_level_design_matrix(mixed_frame_times, events=mixed_event_df, high_pass=0.0).loc[:,'nonword':'word']\n",
    "fig, ax = plt.subplots(figsize=(2, 6))\n",
    "\n",
    "plot_design_matrix(mixed_design_matrix, rescale=False, ax=ax)\n",
    "ax.set_xticklabels(ax.get_xticklabels(), weight=\"heavy\", size=13)\n",
    "ax.set_yticks([])\n",
    "ax.set_ylabel(\"Volume Number\", fontdict={\"weight\": \"heavy\"}, size=15);\n",
    "fig.suptitle(\"Mixed Block/Event Design\", fontsize=15, fontweight='heavy', x=0.60, y=1.02);\n",
    "save_eps(fig, \"./outputs/mixed_design\")"
   ]
  },
  {
   "cell_type": "code",
   "execution_count": null,
   "metadata": {},
   "outputs": [],
   "source": []
  }
 ],
 "metadata": {
  "kernelspec": {
   "display_name": "aim1_valid",
   "language": "python",
   "name": "aim1_valid"
  },
  "language_info": {
   "codemirror_mode": {
    "name": "ipython",
    "version": 3
   },
   "file_extension": ".py",
   "mimetype": "text/x-python",
   "name": "python",
   "nbconvert_exporter": "python",
   "pygments_lexer": "ipython3",
   "version": "3.7.6"
  }
 },
 "nbformat": 4,
 "nbformat_minor": 4
}
